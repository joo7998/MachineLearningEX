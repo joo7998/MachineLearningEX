{
 "cells": [
  {
   "cell_type": "markdown",
   "id": "438fc112-57fc-47b5-a299-dce7e761db94",
   "metadata": {},
   "source": [
    "# 전이 학습(transfer learning)\n",
    "- 수만 장에 달하는 기존의 이미지에서 + 미리 학습한 가중치(weight) + 학습한 정보를 가져와 => 내 프로젝트에 활용\n",
    "- 딥러닝의 데이터 양이 충분하지 않을 때 활용할 수 있는 방법\n",
    "- 컴퓨터 비전, 자연어 처리 \n",
    "- 예측율을 높"
   ]
  },
  {
   "cell_type": "markdown",
   "id": "a22db802-cd69-489e-94d8-780958d87a18",
   "metadata": {},
   "source": [
    "# 딥러닝 및 머신러닝 알고리즘\n",
    "\n",
    "- 1)지도 학습(supervised learning) : 정답을 알려 주고 시작, lungcancer, pima, cnn (CLASS)\n",
    "- 2)비지도 학습(unsupervised learning) : GAN, AutoEncoder => data 특성 찾기 "
   ]
  },
  {
   "cell_type": "code",
   "execution_count": 1,
   "id": "1e160562-7670-4b47-97ee-094129057393",
   "metadata": {},
   "outputs": [],
   "source": [
    "# https://tykimos.github.io/2017/03/08/CNN_Getting_Started/"
   ]
  },
  {
   "cell_type": "markdown",
   "id": "e5c3a7c1-4c59-413e-87a3-8894e1a28c8c",
   "metadata": {},
   "source": [
    "# MRI \n",
    "- 뇌 사진을 보고 치매 환자의 뇌인지, 일반인의 뇌인지를 예측\n",
    "- 각 사진마다 치매 혹은 일반인으로 클래스 =>  지도 학습\n",
    "- 이미지를 분류할 것 => 컨볼루션 신경망(CNN)"
   ]
  },
  {
   "cell_type": "markdown",
   "id": "0cd285f8-de06-40d8-8389-e401e3f33705",
   "metadata": {},
   "source": [
    "- 총 280장 뇌 단면 사진 = 치매 환자 140장 + 일반인 140장\n",
    "- 280개 = 160개는 train 폴더(ad[치매 환자] normal[일반인]) + 120개는 test 폴더(ad, normal)"
   ]
  },
  {
   "cell_type": "markdown",
   "id": "3cd30004-6918-4667-b77b-9bbfd216e9e3",
   "metadata": {},
   "source": [
    "- ImageDataGenerator() : 주어진 데이터를 이용해 변형된 이미지를 만들어 학습셋에 포함, 이미지 데이터의 수를 확장할 때 효과적\n",
    "- flow_from_directory() : 폴더에 저장된 데이터를 불러"
   ]
  },
  {
   "cell_type": "code",
   "execution_count": 2,
   "id": "f6574d4e-03f9-4a35-b385-15787d86d32f",
   "metadata": {},
   "outputs": [],
   "source": [
    "# test # train set folder 붙여넣기 "
   ]
  },
  {
   "cell_type": "code",
   "execution_count": 3,
   "id": "b03606b0-9669-4a4c-931a-959d4b565c75",
   "metadata": {},
   "outputs": [],
   "source": [
    "import tensorflow as tf\n",
    "import numpy as np\n",
    "import matplotlib.pyplot as plt\n",
    "from tensorflow.keras.models import Sequential\n",
    "from tensorflow.keras.layers import Dense, Activation, Dropout, Flatten, Conv2D, MaxPooling2D\n",
    "from tensorflow.keras.preprocessing.image import ImageDataGenerator\n",
    "from tensorflow.keras import optimizers, initializers, regularizers, metrics"
   ]
  },
  {
   "cell_type": "code",
   "execution_count": 4,
   "id": "3e16bd6e-6dea-4f5e-86bc-a4dde3ab846a",
   "metadata": {},
   "outputs": [],
   "source": [
    "train_datagen = ImageDataGenerator(\n",
    "    rescale=1./225,          # 원본 영상이 0~255의 RGB값\n",
    "                             # 255로 나누면 0~1의 값으로 변환=>학습 빠르고 쉬워                       \n",
    "    horizontal_flip=True,    # 수평 대칭 이미지를 50% 확률로 만들어 추가\n",
    "    width_shift_range=0.1,   # 전체 크기의 10% 범위에서 좌우로 이동\n",
    "    height_shift_range=0.1, \n",
    "    fill_mode='nearest')     # 빈 공간 - 가장 비슷한 색으로 채우기 \n"
   ]
  },
  {
   "cell_type": "code",
   "execution_count": 5,
   "id": "9c511668-45fe-4190-acd5-866d7068e2fe",
   "metadata": {},
   "outputs": [
    {
     "name": "stdout",
     "output_type": "stream",
     "text": [
      "Found 160 images belonging to 2 classes.\n"
     ]
    }
   ],
   "source": [
    "train_generator = train_datagen.flow_from_directory('train', target_size=(150, 150), \n",
    "                                                    batch_size=5, class_mode='binary')\n",
    "# train 안 ad(0) & normal(1) : 폴더명 자체를 label로 씀 "
   ]
  },
  {
   "cell_type": "code",
   "execution_count": 6,
   "id": "dfdc4d33-9fcd-402b-969c-b3390a8041fc",
   "metadata": {},
   "outputs": [
    {
     "name": "stdout",
     "output_type": "stream",
     "text": [
      "Found 120 images belonging to 2 classes.\n"
     ]
    }
   ],
   "source": [
    "# 테스트셋은 이미지 부풀리기 과정을 진행 X\n",
    "test_datagen = ImageDataGenerator(rescale=1./255)\n",
    "test_generator = test_datagen.flow_from_directory('test', target_size=(150, 150),\n",
    "                                                  batch_size=5, class_mode='binary')"
   ]
  },
  {
   "cell_type": "code",
   "execution_count": 7,
   "id": "3816e688-4529-4460-a79b-b9853cfe2808",
   "metadata": {},
   "outputs": [
    {
     "name": "stdout",
     "output_type": "stream",
     "text": [
      "32\n"
     ]
    }
   ],
   "source": [
    "print(len(train_generator))\n",
    "# 160 / 5(batch_size)"
   ]
  },
  {
   "cell_type": "code",
   "execution_count": 8,
   "id": "8ce2640e-ae30-4142-90cb-36261208bd65",
   "metadata": {},
   "outputs": [
    {
     "name": "stdout",
     "output_type": "stream",
     "text": [
      "24\n"
     ]
    }
   ],
   "source": [
    "print(len(test_generator))\n",
    "# 120 / 5"
   ]
  },
  {
   "cell_type": "code",
   "execution_count": 9,
   "id": "3ff3962a-861c-439b-a163-c580c1a2b8e8",
   "metadata": {},
   "outputs": [],
   "source": [
    "# 앞서 배운 CNN 모델을 만들어 적용하기\n",
    "model = Sequential()             \n",
    "model.add(Conv2D(32, (3, 3), input_shape=(150,150,3)))\n",
    "model.add(Activation('relu'))\n",
    "model.add(MaxPooling2D(pool_size=(2, 2)))\n",
    " \n",
    "model.add(Conv2D(32, (3, 3)))\n",
    "model.add(Activation('relu'))\n",
    "model.add(MaxPooling2D(pool_size=(2, 2)))\n",
    " \n",
    "model.add(Conv2D(64, (3, 3)))\n",
    "model.add(Activation('relu'))\n",
    "model.add(MaxPooling2D(pool_size=(2, 2)))\n",
    " \n",
    "model.add(Flatten())\n",
    "model.add(Dense(64))\n",
    "model.add(Activation('relu'))\n",
    "model.add(Dropout(0.5))\n",
    "model.add(Dense(2))\n",
    "model.add(Activation('sigmoid'))"
   ]
  },
  {
   "cell_type": "code",
   "execution_count": 10,
   "id": "168def65-5068-402a-b496-fcbda3f35632",
   "metadata": {},
   "outputs": [
    {
     "name": "stdout",
     "output_type": "stream",
     "text": [
      "Model: \"sequential\"\n",
      "_________________________________________________________________\n",
      "Layer (type)                 Output Shape              Param #   \n",
      "=================================================================\n",
      "conv2d (Conv2D)              (None, 148, 148, 32)      896       \n",
      "_________________________________________________________________\n",
      "activation (Activation)      (None, 148, 148, 32)      0         \n",
      "_________________________________________________________________\n",
      "max_pooling2d (MaxPooling2D) (None, 74, 74, 32)        0         \n",
      "_________________________________________________________________\n",
      "conv2d_1 (Conv2D)            (None, 72, 72, 32)        9248      \n",
      "_________________________________________________________________\n",
      "activation_1 (Activation)    (None, 72, 72, 32)        0         \n",
      "_________________________________________________________________\n",
      "max_pooling2d_1 (MaxPooling2 (None, 36, 36, 32)        0         \n",
      "_________________________________________________________________\n",
      "conv2d_2 (Conv2D)            (None, 34, 34, 64)        18496     \n",
      "_________________________________________________________________\n",
      "activation_2 (Activation)    (None, 34, 34, 64)        0         \n",
      "_________________________________________________________________\n",
      "max_pooling2d_2 (MaxPooling2 (None, 17, 17, 64)        0         \n",
      "_________________________________________________________________\n",
      "flatten (Flatten)            (None, 18496)             0         \n",
      "_________________________________________________________________\n",
      "dense (Dense)                (None, 64)                1183808   \n",
      "_________________________________________________________________\n",
      "activation_3 (Activation)    (None, 64)                0         \n",
      "_________________________________________________________________\n",
      "dropout (Dropout)            (None, 64)                0         \n",
      "_________________________________________________________________\n",
      "dense_1 (Dense)              (None, 2)                 130       \n",
      "_________________________________________________________________\n",
      "activation_4 (Activation)    (None, 2)                 0         \n",
      "=================================================================\n",
      "Total params: 1,212,578\n",
      "Trainable params: 1,212,578\n",
      "Non-trainable params: 0\n",
      "_________________________________________________________________\n"
     ]
    }
   ],
   "source": [
    "model.summary()"
   ]
  },
  {
   "cell_type": "code",
   "execution_count": 11,
   "id": "a876eed9-bd42-43c6-b256-b50a79a6908c",
   "metadata": {},
   "outputs": [],
   "source": [
    "# 모델 컴파일  \n",
    "model.compile(loss='sparse_categorical_crossentropy',\n",
    "optimizer=optimizers.Adam(learning_rate=0.0002), metrics=['accuracy'])"
   ]
  },
  {
   "cell_type": "code",
   "execution_count": 12,
   "id": "8f13c10d-c7df-4c90-a79f-d9214a3ce09d",
   "metadata": {},
   "outputs": [],
   "source": [
    "steps_train = len(train_generator)\n",
    "steps_test = len(test_generator)"
   ]
  },
  {
   "cell_type": "code",
   "execution_count": 13,
   "id": "2b9b38d8-feec-402e-bfbe-cfa18b15bfa8",
   "metadata": {
    "tags": []
   },
   "outputs": [
    {
     "name": "stdout",
     "output_type": "stream",
     "text": [
      "Train for 32 steps, validate for 24 steps\n",
      "Epoch 1/20\n",
      "WARNING:tensorflow:Entity <function Function._initialize_uninitialized_variables.<locals>.initialize_variables at 0x0000019200C36A68> could not be transformed and will be executed as-is. Please report this to the AutoGraph team. When filing the bug, set the verbosity to 10 (on Linux, `export AUTOGRAPH_VERBOSITY=10`) and attach the full output. Cause: No module named 'tensorflow_core.estimator'\n",
      "WARNING: Entity <function Function._initialize_uninitialized_variables.<locals>.initialize_variables at 0x0000019200C36A68> could not be transformed and will be executed as-is. Please report this to the AutoGraph team. When filing the bug, set the verbosity to 10 (on Linux, `export AUTOGRAPH_VERBOSITY=10`) and attach the full output. Cause: No module named 'tensorflow_core.estimator'\n",
      "32/32 [==============================] - 4s 117ms/step - loss: 0.6947 - accuracy: 0.5063 - val_loss: 0.6897 - val_accuracy: 0.5917\n",
      "Epoch 2/20\n",
      "32/32 [==============================] - 3s 88ms/step - loss: 0.6825 - accuracy: 0.5562 - val_loss: 0.6861 - val_accuracy: 0.6583\n",
      "Epoch 3/20\n",
      "32/32 [==============================] - 3s 88ms/step - loss: 0.6984 - accuracy: 0.4875 - val_loss: 0.6878 - val_accuracy: 0.5000\n",
      "Epoch 4/20\n",
      "32/32 [==============================] - 3s 86ms/step - loss: 0.6949 - accuracy: 0.5125 - val_loss: 0.6849 - val_accuracy: 0.5000\n",
      "Epoch 5/20\n",
      "32/32 [==============================] - 3s 89ms/step - loss: 0.6838 - accuracy: 0.5813 - val_loss: 0.6849 - val_accuracy: 0.5000\n",
      "Epoch 6/20\n",
      "32/32 [==============================] - 3s 88ms/step - loss: 0.6771 - accuracy: 0.5750 - val_loss: 0.6563 - val_accuracy: 0.7583\n",
      "Epoch 7/20\n",
      "32/32 [==============================] - 3s 85ms/step - loss: 0.6604 - accuracy: 0.6750 - val_loss: 0.6373 - val_accuracy: 0.6000\n",
      "Epoch 8/20\n",
      "32/32 [==============================] - 3s 85ms/step - loss: 0.6557 - accuracy: 0.5688 - val_loss: 0.6264 - val_accuracy: 0.6083\n",
      "Epoch 9/20\n",
      "32/32 [==============================] - 3s 88ms/step - loss: 0.6250 - accuracy: 0.6562 - val_loss: 0.6135 - val_accuracy: 0.6000\n",
      "Epoch 10/20\n",
      "32/32 [==============================] - 3s 88ms/step - loss: 0.5912 - accuracy: 0.7188 - val_loss: 0.4817 - val_accuracy: 0.7750\n",
      "Epoch 11/20\n",
      "32/32 [==============================] - 3s 85ms/step - loss: 0.5624 - accuracy: 0.7312 - val_loss: 0.5276 - val_accuracy: 0.6750\n",
      "Epoch 12/20\n",
      "32/32 [==============================] - 3s 85ms/step - loss: 0.5758 - accuracy: 0.7625 - val_loss: 0.4757 - val_accuracy: 0.8583\n",
      "Epoch 13/20\n",
      "32/32 [==============================] - 3s 86ms/step - loss: 0.4664 - accuracy: 0.8125 - val_loss: 0.3165 - val_accuracy: 0.9167\n",
      "Epoch 14/20\n",
      "32/32 [==============================] - 3s 86ms/step - loss: 0.3710 - accuracy: 0.8562 - val_loss: 0.2424 - val_accuracy: 0.9250\n",
      "Epoch 15/20\n",
      "32/32 [==============================] - 3s 87ms/step - loss: 0.4460 - accuracy: 0.7875 - val_loss: 0.3857 - val_accuracy: 0.8500\n",
      "Epoch 16/20\n",
      "32/32 [==============================] - 3s 89ms/step - loss: 0.3678 - accuracy: 0.8687 - val_loss: 0.2257 - val_accuracy: 0.9417\n",
      "Epoch 17/20\n",
      "32/32 [==============================] - 3s 88ms/step - loss: 0.2818 - accuracy: 0.9062 - val_loss: 0.2732 - val_accuracy: 0.8583\n",
      "Epoch 18/20\n",
      "32/32 [==============================] - 3s 86ms/step - loss: 0.3192 - accuracy: 0.8938 - val_loss: 0.3001 - val_accuracy: 0.8583\n",
      "Epoch 19/20\n",
      "32/32 [==============================] - 3s 85ms/step - loss: 0.3100 - accuracy: 0.9000 - val_loss: 0.1453 - val_accuracy: 0.9667\n",
      "Epoch 20/20\n",
      "32/32 [==============================] - 3s 85ms/step - loss: 0.2504 - accuracy: 0.9000 - val_loss: 0.1229 - val_accuracy: 0.9667\n"
     ]
    }
   ],
   "source": [
    "# 모델 실행\n",
    "\n",
    "# 옛 모델 history = model.fit_generator(train_generator, steps_per_epoch=100, epochs=20, validation_data=test_generator, validation_steps=4)\n",
    "\n",
    "history = model.fit(\n",
    "       train_generator,\n",
    "       steps_per_epoch=steps_train,\n",
    "       epochs=20,\n",
    "       validation_data=test_generator,\n",
    "       validation_steps=steps_test)"
   ]
  },
  {
   "cell_type": "code",
   "execution_count": 14,
   "id": "3555424c-56e3-433e-b52a-860a6dfd7cda",
   "metadata": {},
   "outputs": [
    {
     "data": {
      "image/png": "[encoded data removed]",
      "text/plain": [
       "<Figure size 640x480 with 1 Axes>"
      ]
     },
     "metadata": {},
     "output_type": "display_data"
    }
   ],
   "source": [
    "# 결과를 그래프로 표현하는 부분\n",
    "acc= history.history['accuracy']\n",
    "val_acc= history.history['val_accuracy']\n",
    "y_vloss = history.history['val_loss']\n",
    "y_loss = history.history['loss']\n",
    "x_len = np.arange(len(y_loss))  \n",
    " \n",
    "plt.plot(x_len, acc, marker='.', c=\"red\", label='Trainset_acc')\n",
    "plt.plot(x_len, val_acc, marker='.', c=\"lightcoral\", label='Testset_acc')\n",
    "plt.plot(x_len, y_vloss, marker='.', c=\"cornflowerblue\", label='Testset_loss')\n",
    "plt.plot(x_len, y_loss, marker='.', c=\"blue\", label='Trainset_loss')\n",
    " \n",
    "plt.legend(loc='upper right') \n",
    "plt.grid()\n",
    "plt.xlabel('epoch')\n",
    "plt.ylabel('loss/acc')\n",
    "plt.show()"
   ]
  },
  {
   "cell_type": "code",
   "execution_count": null,
   "id": "3a842257-cc6a-467c-92fd-1bbbed5d9290",
   "metadata": {},
   "outputs": [],
   "source": []
  },
  {
   "cell_type": "code",
   "execution_count": null,
   "id": "1a2f0c6c-0238-4e93-9b2b-14fa0d194241",
   "metadata": {},
   "outputs": [],
   "source": []
  },
  {
   "cell_type": "code",
   "execution_count": null,
   "id": "e5354224-850a-41bd-b8f1-e27cb83b1802",
   "metadata": {},
   "outputs": [],
   "source": []
  }
 ],
 "metadata": {
  "kernelspec": {
   "display_name": "Python 3",
   "language": "python",
   "name": "python3"
  },
  "language_info": {
   "codemirror_mode": {
    "name": "ipython",
    "version": 3
   },
   "file_extension": ".py",
   "mimetype": "text/x-python",
   "name": "python",
   "nbconvert_exporter": "python",
   "pygments_lexer": "ipython3",
   "version": "3.7.10"
  }
 },
 "nbformat": 4,
 "nbformat_minor": 5
}
