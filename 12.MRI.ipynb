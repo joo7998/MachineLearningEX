{
 "cells": [
  {
   "cell_type": "markdown",
   "id": "438fc112-57fc-47b5-a299-dce7e761db94",
   "metadata": {},
   "source": [
    "# 전이 학습(transfer learning)\n",
    "- 수만 장에 달하는 기존의 이미지에서 + 미리 학습한 가중치(weight) + 학습한 정보를 가져와 => 내 프로젝트에 활용\n",
    "- 딥러닝의 데이터 양이 충분하지 않을 때 활용할 수 있는 방법\n",
    "- 컴퓨터 비전, 자연어 처리 \n",
    "- 예측율을 높"
   ]
  },
  {
   "cell_type": "markdown",
   "id": "a22db802-cd69-489e-94d8-780958d87a18",
   "metadata": {},
   "source": [
    "# 딥러닝 및 머신러닝 알고리즘\n",
    "\n",
    "- 1)지도 학습(supervised learning) : 정답을 알려 주고 시작, lungcancer, pima, cnn (CLASS)\n",
    "- 2)비지도 학습(unsupervised learning) : GAN, AutoEncoder => data 특성 찾기 "
   ]
  },
  {
   "cell_type": "code",
   "execution_count": 1,
   "id": "1e160562-7670-4b47-97ee-094129057393",
   "metadata": {},
   "outputs": [],
   "source": [
    "# https://tykimos.github.io/2017/03/08/CNN_Getting_Started/"
   ]
  },
  {
   "cell_type": "markdown",
   "id": "e5c3a7c1-4c59-413e-87a3-8894e1a28c8c",
   "metadata": {},
   "source": [
    "# MRI \n",
    "- 뇌 사진을 보고 치매 환자의 뇌인지, 일반인의 뇌인지를 예측\n",
    "- 각 사진마다 치매 혹은 일반인으로 클래스 =>  지도 학습\n",
    "- 이미지를 분류할 것 => 컨볼루션 신경망(CNN)"
   ]
  },
  {
   "cell_type": "markdown",
   "id": "0cd285f8-de06-40d8-8389-e401e3f33705",
   "metadata": {},
   "source": [
    "- 총 280장 뇌 단면 사진 = 치매 환자 140장 + 일반인 140장\n",
    "- 280개 = 160개는 train 폴더(ad[치매 환자] normal[일반인]) + 120개는 test 폴더(ad, normal)"
   ]
  },
  {
   "cell_type": "markdown",
   "id": "3cd30004-6918-4667-b77b-9bbfd216e9e3",
   "metadata": {},
   "source": [
    "- ImageDataGenerator() : 주어진 데이터를 이용해 변형된 이미지를 만들어 학습셋에 포함, 이미지 데이터의 수를 확장할 때 효과적\n",
    "- flow_from_directory() : 폴더에 저장된 데이터를 불러"
   ]
  },
  {
   "cell_type": "code",
   "execution_count": 2,
   "id": "f6574d4e-03f9-4a35-b385-15787d86d32f",
   "metadata": {},
   "outputs": [],
   "source": [
    "# test # train set folder 붙여넣기 "
   ]
  },
  {
   "cell_type": "code",
   "execution_count": 3,
   "id": "b03606b0-9669-4a4c-931a-959d4b565c75",
   "metadata": {},
   "outputs": [],
   "source": [
    "import tensorflow as tf\n",
    "import numpy as np\n",
    "import matplotlib.pyplot as plt\n",
    "from tensorflow.keras.models import Sequential\n",
    "from tensorflow.keras.layers import Dense, Activation, Dropout, Flatten, Conv2D, MaxPooling2D\n",
    "from tensorflow.keras.preprocessing.image import ImageDataGenerator\n",
    "from tensorflow.keras import optimizers, initializers, regularizers, metrics"
   ]
  },
  {
   "cell_type": "code",
   "execution_count": 4,
   "id": "74ce488b-5b6e-467c-bb29-803797696391",
   "metadata": {},
   "outputs": [
    {
     "name": "stdout",
     "output_type": "stream",
     "text": [
      "1 Physical GPUs, 1 Logical GPUs\n"
     ]
    }
   ],
   "source": [
    "gpus = tf.config.experimental.list_physical_devices('GPU')\n",
    "if gpus:\n",
    "    try:\n",
    "        # Currently, memory growth needs to be the same across GPUs\n",
    "        for gpu in gpus:\n",
    "            tf.config.experimental.set_memory_growth(gpu, True)\n",
    "        logical_gpus = tf.config.experimental.list_logical_devices('GPU')\n",
    "        print(len(gpus), \"Physical GPUs,\", len(logical_gpus), \"Logical GPUs\")\n",
    "    except RuntimeError as e:\n",
    "        # Memory growth must be set before GPUs have been initialized\n",
    "        print(e)"
   ]
  },
  {
   "cell_type": "code",
   "execution_count": 5,
   "id": "3e16bd6e-6dea-4f5e-86bc-a4dde3ab846a",
   "metadata": {},
   "outputs": [],
   "source": [
    "train_datagen = ImageDataGenerator(\n",
    "    rescale=1./225,          # 원본 영상이 0~255의 RGB값\n",
    "                             # 255로 나누면 0~1의 값으로 변환=>학습 빠르고 쉬워                       \n",
    "    horizontal_flip=True,    # 수평 대칭 이미지를 50% 확률로 만들어 추가\n",
    "    width_shift_range=0.1,   # 전체 크기의 10% 범위에서 좌우로 이동\n",
    "    height_shift_range=0.1, \n",
    "    fill_mode='nearest')     # 빈 공간 - 가장 비슷한 색으로 채우기 \n"
   ]
  },
  {
   "cell_type": "code",
   "execution_count": 6,
   "id": "9c511668-45fe-4190-acd5-866d7068e2fe",
   "metadata": {},
   "outputs": [
    {
     "name": "stdout",
     "output_type": "stream",
     "text": [
      "Found 160 images belonging to 2 classes.\n"
     ]
    }
   ],
   "source": [
    "train_generator = train_datagen.flow_from_directory('train', target_size=(150, 150), \n",
    "                                                    batch_size=5, class_mode='binary')\n",
    "# train 안 ad(0) & normal(1) : 폴더명 자체를 label로 씀 "
   ]
  },
  {
   "cell_type": "code",
   "execution_count": 7,
   "id": "dfdc4d33-9fcd-402b-969c-b3390a8041fc",
   "metadata": {},
   "outputs": [
    {
     "name": "stdout",
     "output_type": "stream",
     "text": [
      "Found 120 images belonging to 2 classes.\n"
     ]
    }
   ],
   "source": [
    "# 테스트셋은 이미지 부풀리기 과정을 진행 X\n",
    "test_datagen = ImageDataGenerator(rescale=1./255)\n",
    "test_generator = test_datagen.flow_from_directory('test', target_size=(150, 150),\n",
    "                                                  batch_size=5, class_mode='binary')"
   ]
  },
  {
   "cell_type": "code",
   "execution_count": 8,
   "id": "3816e688-4529-4460-a79b-b9853cfe2808",
   "metadata": {},
   "outputs": [
    {
     "name": "stdout",
     "output_type": "stream",
     "text": [
      "32\n"
     ]
    }
   ],
   "source": [
    "print(len(train_generator))\n",
    "# 160 / 5(batch_size)"
   ]
  },
  {
   "cell_type": "code",
   "execution_count": 9,
   "id": "8ce2640e-ae30-4142-90cb-36261208bd65",
   "metadata": {},
   "outputs": [
    {
     "name": "stdout",
     "output_type": "stream",
     "text": [
      "24\n"
     ]
    }
   ],
   "source": [
    "print(len(test_generator))\n",
    "# 120 / 5"
   ]
  },
  {
   "cell_type": "code",
   "execution_count": 10,
   "id": "3ff3962a-861c-439b-a163-c580c1a2b8e8",
   "metadata": {},
   "outputs": [],
   "source": [
    "# 앞서 배운 CNN 모델을 만들어 적용하기\n",
    "model = Sequential()             \n",
    "model.add(Conv2D(32, (3, 3), input_shape=(150,150,3)))\n",
    "model.add(Activation('relu'))\n",
    "model.add(MaxPooling2D(pool_size=(2, 2)))\n",
    " \n",
    "model.add(Conv2D(32, (3, 3)))\n",
    "model.add(Activation('relu'))\n",
    "model.add(MaxPooling2D(pool_size=(2, 2)))\n",
    " \n",
    "model.add(Conv2D(64, (3, 3)))\n",
    "model.add(Activation('relu'))\n",
    "model.add(MaxPooling2D(pool_size=(2, 2)))\n",
    " \n",
    "model.add(Flatten())\n",
    "model.add(Dense(64))\n",
    "model.add(Activation('relu'))\n",
    "model.add(Dropout(0.5))\n",
    "model.add(Dense(2))\n",
    "model.add(Activation('sigmoid'))"
   ]
  },
  {
   "cell_type": "code",
   "execution_count": 11,
   "id": "168def65-5068-402a-b496-fcbda3f35632",
   "metadata": {},
   "outputs": [
    {
     "name": "stdout",
     "output_type": "stream",
     "text": [
      "Model: \"sequential\"\n",
      "_________________________________________________________________\n",
      "Layer (type)                 Output Shape              Param #   \n",
      "=================================================================\n",
      "conv2d (Conv2D)              (None, 148, 148, 32)      896       \n",
      "_________________________________________________________________\n",
      "activation (Activation)      (None, 148, 148, 32)      0         \n",
      "_________________________________________________________________\n",
      "max_pooling2d (MaxPooling2D) (None, 74, 74, 32)        0         \n",
      "_________________________________________________________________\n",
      "conv2d_1 (Conv2D)            (None, 72, 72, 32)        9248      \n",
      "_________________________________________________________________\n",
      "activation_1 (Activation)    (None, 72, 72, 32)        0         \n",
      "_________________________________________________________________\n",
      "max_pooling2d_1 (MaxPooling2 (None, 36, 36, 32)        0         \n",
      "_________________________________________________________________\n",
      "conv2d_2 (Conv2D)            (None, 34, 34, 64)        18496     \n",
      "_________________________________________________________________\n",
      "activation_2 (Activation)    (None, 34, 34, 64)        0         \n",
      "_________________________________________________________________\n",
      "max_pooling2d_2 (MaxPooling2 (None, 17, 17, 64)        0         \n",
      "_________________________________________________________________\n",
      "flatten (Flatten)            (None, 18496)             0         \n",
      "_________________________________________________________________\n",
      "dense (Dense)                (None, 64)                1183808   \n",
      "_________________________________________________________________\n",
      "activation_3 (Activation)    (None, 64)                0         \n",
      "_________________________________________________________________\n",
      "dropout (Dropout)            (None, 64)                0         \n",
      "_________________________________________________________________\n",
      "dense_1 (Dense)              (None, 2)                 130       \n",
      "_________________________________________________________________\n",
      "activation_4 (Activation)    (None, 2)                 0         \n",
      "=================================================================\n",
      "Total params: 1,212,578\n",
      "Trainable params: 1,212,578\n",
      "Non-trainable params: 0\n",
      "_________________________________________________________________\n"
     ]
    }
   ],
   "source": [
    "model.summary()"
   ]
  },
  {
   "cell_type": "code",
   "execution_count": 12,
   "id": "a876eed9-bd42-43c6-b256-b50a79a6908c",
   "metadata": {},
   "outputs": [],
   "source": [
    "# 모델 컴파일  \n",
    "model.compile(loss='sparse_categorical_crossentropy',\n",
    "optimizer=optimizers.Adam(learning_rate=0.0002), metrics=['accuracy'])"
   ]
  },
  {
   "cell_type": "code",
   "execution_count": 13,
   "id": "8f13c10d-c7df-4c90-a79f-d9214a3ce09d",
   "metadata": {},
   "outputs": [],
   "source": [
    "steps_train = len(train_generator)\n",
    "steps_test = len(test_generator)"
   ]
  },
  {
   "cell_type": "code",
   "execution_count": 14,
   "id": "2b9b38d8-feec-402e-bfbe-cfa18b15bfa8",
   "metadata": {
    "tags": []
   },
   "outputs": [
    {
     "name": "stdout",
     "output_type": "stream",
     "text": [
      "WARNING:tensorflow:sample_weight modes were coerced from\n",
      "  ...\n",
      "    to  \n",
      "  ['...']\n",
      "WARNING:tensorflow:sample_weight modes were coerced from\n",
      "  ...\n",
      "    to  \n",
      "  ['...']\n",
      "Train for 32 steps, validate for 24 steps\n",
      "Epoch 1/20\n",
      "32/32 [==============================] - 2s 75ms/step - loss: 0.7050 - accuracy: 0.5125 - val_loss: 0.6937 - val_accuracy: 0.5000\n",
      "Epoch 2/20\n",
      "32/32 [==============================] - 1s 27ms/step - loss: 0.6912 - accuracy: 0.5437 - val_loss: 0.6892 - val_accuracy: 0.6083\n",
      "Epoch 3/20\n",
      "32/32 [==============================] - 1s 27ms/step - loss: 0.6933 - accuracy: 0.5125 - val_loss: 0.6859 - val_accuracy: 0.5833\n",
      "Epoch 4/20\n",
      "32/32 [==============================] - 1s 27ms/step - loss: 0.6905 - accuracy: 0.5312 - val_loss: 0.6830 - val_accuracy: 0.6333\n",
      "Epoch 5/20\n",
      "32/32 [==============================] - 1s 27ms/step - loss: 0.6842 - accuracy: 0.5125 - val_loss: 0.6742 - val_accuracy: 0.5000\n",
      "Epoch 6/20\n",
      "32/32 [==============================] - 1s 27ms/step - loss: 0.6636 - accuracy: 0.6000 - val_loss: 0.6452 - val_accuracy: 0.7417\n",
      "Epoch 7/20\n",
      "32/32 [==============================] - 1s 27ms/step - loss: 0.6557 - accuracy: 0.6250 - val_loss: 0.6013 - val_accuracy: 0.7417\n",
      "Epoch 8/20\n",
      "32/32 [==============================] - 1s 26ms/step - loss: 0.6079 - accuracy: 0.6938 - val_loss: 0.5648 - val_accuracy: 0.6833\n",
      "Epoch 9/20\n",
      "32/32 [==============================] - 1s 26ms/step - loss: 0.5789 - accuracy: 0.7563 - val_loss: 0.4748 - val_accuracy: 0.8500\n",
      "Epoch 10/20\n",
      "32/32 [==============================] - 1s 26ms/step - loss: 0.5108 - accuracy: 0.7812 - val_loss: 0.4037 - val_accuracy: 0.9000\n",
      "Epoch 11/20\n",
      "32/32 [==============================] - 1s 26ms/step - loss: 0.4906 - accuracy: 0.7625 - val_loss: 0.3374 - val_accuracy: 0.9250\n",
      "Epoch 12/20\n",
      "32/32 [==============================] - 1s 26ms/step - loss: 0.4521 - accuracy: 0.8438 - val_loss: 0.2630 - val_accuracy: 0.9583\n",
      "Epoch 13/20\n",
      "32/32 [==============================] - 1s 26ms/step - loss: 0.3598 - accuracy: 0.8687 - val_loss: 0.4227 - val_accuracy: 0.7833\n",
      "Epoch 14/20\n",
      "32/32 [==============================] - 1s 26ms/step - loss: 0.4889 - accuracy: 0.7875 - val_loss: 0.2948 - val_accuracy: 0.9417\n",
      "Epoch 15/20\n",
      "32/32 [==============================] - 1s 26ms/step - loss: 0.3107 - accuracy: 0.8750 - val_loss: 0.2298 - val_accuracy: 0.8917\n",
      "Epoch 16/20\n",
      "32/32 [==============================] - 1s 27ms/step - loss: 0.3425 - accuracy: 0.8375 - val_loss: 0.1699 - val_accuracy: 0.9417\n",
      "Epoch 17/20\n",
      "32/32 [==============================] - 1s 26ms/step - loss: 0.2020 - accuracy: 0.9375 - val_loss: 0.1990 - val_accuracy: 0.9083\n",
      "Epoch 18/20\n",
      "32/32 [==============================] - 1s 26ms/step - loss: 0.2334 - accuracy: 0.8750 - val_loss: 0.1427 - val_accuracy: 0.9667\n",
      "Epoch 19/20\n",
      "32/32 [==============================] - 1s 26ms/step - loss: 0.2283 - accuracy: 0.9312 - val_loss: 0.1116 - val_accuracy: 0.9750\n",
      "Epoch 20/20\n",
      "32/32 [==============================] - 1s 26ms/step - loss: 0.1727 - accuracy: 0.9375 - val_loss: 0.1296 - val_accuracy: 0.9583\n"
     ]
    }
   ],
   "source": [
    "# 모델 실행\n",
    "\n",
    "# 옛 모델 history = model.fit_generator(train_generator, steps_per_epoch=100, epochs=20, validation_data=test_generator, validation_steps=4)\n",
    "\n",
    "history = model.fit(\n",
    "       train_generator,\n",
    "       steps_per_epoch=steps_train,\n",
    "       epochs=20,\n",
    "       validation_data=test_generator,\n",
    "       validation_steps=steps_test)"
   ]
  },
  {
   "cell_type": "code",
   "execution_count": 15,
   "id": "3555424c-56e3-433e-b52a-860a6dfd7cda",
   "metadata": {},
   "outputs": [
    {
     "data": {
      "image/png": "[encoded data removed]",
      "text/plain": [
       "<Figure size 432x288 with 1 Axes>"
      ]
     },
     "metadata": {
      "needs_background": "light"
     },
     "output_type": "display_data"
    }
   ],
   "source": [
    "# 결과를 그래프로 표현하는 부분\n",
    "acc= history.history['accuracy']\n",
    "val_acc= history.history['val_accuracy']\n",
    "y_vloss = history.history['val_loss']\n",
    "y_loss = history.history['loss']\n",
    "x_len = np.arange(len(y_loss))  \n",
    " \n",
    "plt.plot(x_len, acc, marker='.', c=\"red\", label='Trainset_acc')\n",
    "plt.plot(x_len, val_acc, marker='.', c=\"lightcoral\", label='Testset_acc')\n",
    "plt.plot(x_len, y_vloss, marker='.', c=\"cornflowerblue\", label='Testset_loss')\n",
    "plt.plot(x_len, y_loss, marker='.', c=\"blue\", label='Trainset_loss')\n",
    " \n",
    "plt.legend(loc='upper right') \n",
    "plt.grid()\n",
    "plt.xlabel('epoch')\n",
    "plt.ylabel('loss/acc')\n",
    "plt.show()"
   ]
  },
  {
   "cell_type": "code",
   "execution_count": null,
   "id": "3a842257-cc6a-467c-92fd-1bbbed5d9290",
   "metadata": {},
   "outputs": [],
   "source": []
  },
  {
   "cell_type": "code",
   "execution_count": null,
   "id": "1a2f0c6c-0238-4e93-9b2b-14fa0d194241",
   "metadata": {},
   "outputs": [],
   "source": []
  },
  {
   "cell_type": "code",
   "execution_count": null,
   "id": "e5354224-850a-41bd-b8f1-e27cb83b1802",
   "metadata": {},
   "outputs": [],
   "source": []
  }
 ],
 "metadata": {
  "kernelspec": {
   "display_name": "Python 3 (ipykernel)",
   "language": "python",
   "name": "python3"
  },
  "language_info": {
   "codemirror_mode": {
    "name": "ipython",
    "version": 3
   },
   "file_extension": ".py",
   "mimetype": "text/x-python",
   "name": "python",
   "nbconvert_exporter": "python",
   "pygments_lexer": "ipython3",
   "version": "3.7.10"
  }
 },
 "nbformat": 4,
 "nbformat_minor": 5
}
