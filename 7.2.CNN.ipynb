{
 "cells": [
  {
   "cell_type": "code",
   "execution_count": 1,
   "id": "b99d28ac-8707-4d70-be28-d23c5a202074",
   "metadata": {},
   "outputs": [],
   "source": [
    "from keras.datasets import mnist\n",
    "from keras.utils import np_utils\n",
    "from keras.models import Sequential\n",
    "from keras.layers import Dense, Dropout, Flatten, Conv2D, MaxPooling2D\n",
    "from keras.callbacks import ModelCheckpoint,EarlyStopping\n",
    " \n",
    "import matplotlib.pyplot as plt\n",
    "import numpy\n",
    "import os\n",
    "import tensorflow as tf\n",
    "  \n",
    "# seed 값 설정\n",
    "seed = 0\n",
    "numpy.random.seed(seed)\n",
    "tf.random.set_seed(3)\n",
    "  \n",
    "# 데이터 불러오기\n",
    "(X_train, Y_train), (X_test, Y_test) = mnist.load_data()\n",
    "X_train = X_train.reshape(X_train.shape[0], 28, 28, 1).astype('float32') / 255\n",
    "X_test = X_test.reshape(X_test.shape[0], 28, 28, 1).astype('float32') / 255\n",
    "Y_train = np_utils.to_categorical(Y_train)\n",
    "Y_test = np_utils.to_categorical(Y_test)"
   ]
  },
  {
   "cell_type": "markdown",
   "id": "bf064d0a-dc16-4c83-bd0a-bb4bf833e167",
   "metadata": {},
   "source": [
    "# 1. CNN (Convolutional Neural Network)\n",
    "- 이미지 인식 분야에서 강력한 성능\n",
    "- 입력된 이미지 - 특징 추출 위해 MASK(filter/kernel/window) 덮어씌우기\n",
    "- 공간 영역 기반 처리 \n",
    "\n",
    "### Blurring \n",
    "- 뽀샵 \n",
    "- 영상을 밝게 수정하면서 약간 흐리게 처리하는 기법 \n",
    "\n",
    "### Sharpening \n",
    "\n",
    "### Edge \n",
    "- 화소 값이 급격히 변하는 부분"
   ]
  },
  {
   "cell_type": "code",
   "execution_count": 5,
   "id": "b0500f2c-8988-4302-8251-a75bb58b942b",
   "metadata": {},
   "outputs": [],
   "source": [
    "model = Sequential()\n",
    "model.add(Conv2D(32, (3,3), input_shape=(28,28,1), activation='relu'))\n",
    "# 32 = mask(kurnel) num\n",
    "# (3,3) = kurnel row, column\n",
    "# (row, column, color) 3=colors, 1=black/white\n",
    "model.add(Conv2D(64, (3, 3), activation='relu')) # 다시 64개로 늘림"
   ]
  },
  {
   "cell_type": "markdown",
   "id": "24774005-4477-456d-ba10-484ccc600e21",
   "metadata": {},
   "source": [
    "# 2. Pooling / Sub Sampling\n",
    "- convolution 결과를 다시 한 번 축소 \n",
    "### 1)Max Pooling - mask 적용후, 가장 큰 값 추출\n",
    "### 2)Avg Pooling "
   ]
  },
  {
   "cell_type": "code",
   "execution_count": 7,
   "id": "778278d8-8253-41c4-a431-f43d4fcc9eed",
   "metadata": {},
   "outputs": [],
   "source": [
    "model.add(MaxPooling2D(pool_size=2))\n",
    "# 2=half"
   ]
  },
  {
   "cell_type": "markdown",
   "id": "0ae61177-e899-4cdb-9a2f-b27b7906b700",
   "metadata": {},
   "source": [
    "# 3. DropOut / Flatten(25%)\n",
    "- hidden layer node 중 일부를 임의로 꺼주는 것 (계산 X)\n",
    "- 학습 데이터에 지나치게 치우쳐서 학습되는 과적합을 방지"
   ]
  },
  {
   "cell_type": "code",
   "execution_count": 8,
   "id": "4230bad0-6ac9-4e82-a951-44929477190e",
   "metadata": {},
   "outputs": [],
   "source": [
    "model.add(Dropout(0.25))\n",
    "model.add(Flatten()) # 2차원 => 1차원 \n",
    "model.add(Dense(128, activation='relu'))\n",
    "model.add(Dropout(0.5))\n",
    "model.add(Dense(10, activation='softmax'))"
   ]
  },
  {
   "cell_type": "code",
   "execution_count": 9,
   "id": "7768b082-9f93-4839-8ec1-6e27bcf73fb8",
   "metadata": {},
   "outputs": [
    {
     "name": "stdout",
     "output_type": "stream",
     "text": [
      "Model: \"sequential\"\n",
      "_________________________________________________________________\n",
      "Layer (type)                 Output Shape              Param #   \n",
      "=================================================================\n",
      "conv2d (Conv2D)              (None, 26, 26, 32)        320       \n",
      "_________________________________________________________________\n",
      "conv2d_1 (Conv2D)            (None, 24, 24, 64)        18496     \n",
      "_________________________________________________________________\n",
      "max_pooling2d (MaxPooling2D) (None, 12, 12, 64)        0         \n",
      "_________________________________________________________________\n",
      "dropout (Dropout)            (None, 12, 12, 64)        0         \n",
      "_________________________________________________________________\n",
      "flatten (Flatten)            (None, 9216)              0         \n",
      "_________________________________________________________________\n",
      "dense (Dense)                (None, 128)               1179776   \n",
      "_________________________________________________________________\n",
      "dropout_1 (Dropout)          (None, 128)               0         \n",
      "_________________________________________________________________\n",
      "dense_1 (Dense)              (None, 10)                1290      \n",
      "=================================================================\n",
      "Total params: 1,199,882\n",
      "Trainable params: 1,199,882\n",
      "Non-trainable params: 0\n",
      "_________________________________________________________________\n"
     ]
    }
   ],
   "source": [
    "model.summary()"
   ]
  },
  {
   "cell_type": "code",
   "execution_count": null,
   "id": "069d8e5e-90be-4bdc-9221-f8187fd6a700",
   "metadata": {},
   "outputs": [],
   "source": [
    "# CNN.xlsx 참조"
   ]
  },
  {
   "cell_type": "code",
   "execution_count": 10,
   "id": "66b37982-94af-4c46-980c-8bf3a6843b6c",
   "metadata": {},
   "outputs": [],
   "source": [
    "model.compile(loss='categorical_crossentropy', optimizer='adam', metrics=['accuracy'])"
   ]
  },
  {
   "cell_type": "code",
   "execution_count": 11,
   "id": "3e3c6b6a-a654-4465-a513-aa2a61e4e64a",
   "metadata": {},
   "outputs": [],
   "source": [
    "# 모델 최적화 설정\n",
    "MODEL_DIR = './model/'\n",
    "if not os.path.exists(MODEL_DIR):\n",
    "    os.mkdir(MODEL_DIR)\n",
    " \n",
    "modelpath=\"./model/{epoch:02d}-{val_loss:.4f}.hdf5\"\n",
    "checkpointer = ModelCheckpoint(filepath=modelpath, monitor='val_loss', verbose=1, save_best_only=True)\n",
    "early_stopping_callback = EarlyStopping(monitor='val_loss', patience=10)"
   ]
  },
  {
   "cell_type": "code",
   "execution_count": 12,
   "id": "ccfe5339-54ad-41f2-a515-2004dfb2b31b",
   "metadata": {
    "tags": []
   },
   "outputs": [
    {
     "name": "stdout",
     "output_type": "stream",
     "text": [
      "\n",
      "Epoch 00001: val_loss improved from inf to 0.05384, saving model to ./model\\01-0.0538.hdf5\n",
      "\n",
      "Epoch 00002: val_loss improved from 0.05384 to 0.04043, saving model to ./model\\02-0.0404.hdf5\n",
      "\n",
      "Epoch 00003: val_loss improved from 0.04043 to 0.03540, saving model to ./model\\03-0.0354.hdf5\n",
      "\n",
      "Epoch 00004: val_loss improved from 0.03540 to 0.03171, saving model to ./model\\04-0.0317.hdf5\n",
      "\n",
      "Epoch 00005: val_loss improved from 0.03171 to 0.03153, saving model to ./model\\05-0.0315.hdf5\n",
      "\n",
      "Epoch 00006: val_loss improved from 0.03153 to 0.03071, saving model to ./model\\06-0.0307.hdf5\n",
      "\n",
      "Epoch 00007: val_loss improved from 0.03071 to 0.02924, saving model to ./model\\07-0.0292.hdf5\n",
      "\n",
      "Epoch 00008: val_loss did not improve from 0.02924\n",
      "\n",
      "Epoch 00009: val_loss improved from 0.02924 to 0.02898, saving model to ./model\\09-0.0290.hdf5\n",
      "\n",
      "Epoch 00010: val_loss did not improve from 0.02898\n",
      "\n",
      "Epoch 00011: val_loss did not improve from 0.02898\n",
      "\n",
      "Epoch 00012: val_loss improved from 0.02898 to 0.02709, saving model to ./model\\12-0.0271.hdf5\n",
      "\n",
      "Epoch 00013: val_loss improved from 0.02709 to 0.02458, saving model to ./model\\13-0.0246.hdf5\n",
      "\n",
      "Epoch 00014: val_loss improved from 0.02458 to 0.02430, saving model to ./model\\14-0.0243.hdf5\n",
      "\n",
      "Epoch 00015: val_loss did not improve from 0.02430\n",
      "\n",
      "Epoch 00016: val_loss did not improve from 0.02430\n",
      "\n",
      "Epoch 00017: val_loss did not improve from 0.02430\n",
      "\n",
      "Epoch 00018: val_loss did not improve from 0.02430\n",
      "\n",
      "Epoch 00019: val_loss did not improve from 0.02430\n",
      "\n",
      "Epoch 00020: val_loss did not improve from 0.02430\n",
      "\n",
      "Epoch 00021: val_loss did not improve from 0.02430\n",
      "\n",
      "Epoch 00022: val_loss did not improve from 0.02430\n",
      "\n",
      "Epoch 00023: val_loss did not improve from 0.02430\n",
      "\n",
      "Epoch 00024: val_loss did not improve from 0.02430\n"
     ]
    }
   ],
   "source": [
    "# 모델의 실행\n",
    "history = model.fit(X_train, Y_train, \n",
    "                    validation_data=(X_test, Y_test), \n",
    "                    epochs=30, batch_size=200, verbose=0, \n",
    "                    callbacks=[early_stopping_callback,checkpointer])"
   ]
  },
  {
   "cell_type": "code",
   "execution_count": 13,
   "id": "e18d6572-897e-4269-9102-a116968aecf6",
   "metadata": {},
   "outputs": [
    {
     "name": "stdout",
     "output_type": "stream",
     "text": [
      "313/313 [==============================] - 2s 6ms/step - loss: 0.0263 - accuracy: 0.9940\n",
      "\n",
      " Test Accuracy: 0.9940\n"
     ]
    }
   ],
   "source": [
    "# 테스트 정확도 출력\n",
    "print(\"\\n Test Accuracy: %.4f\" % (model.evaluate(X_test, Y_test)[1]))"
   ]
  },
  {
   "cell_type": "code",
   "execution_count": null,
   "id": "a35123ce-63fc-4bcb-9734-79055c480717",
   "metadata": {},
   "outputs": [],
   "source": [
    "# 99.4% 정확도 "
   ]
  },
  {
   "cell_type": "code",
   "execution_count": 14,
   "id": "bfd98c64-c34b-466e-a2a4-29a84307c97c",
   "metadata": {},
   "outputs": [
    {
     "data": {
      "image/png": "[encoded data removed]",
      "text/plain": [
       "<Figure size 640x480 with 1 Axes>"
      ]
     },
     "metadata": {},
     "output_type": "display_data"
    }
   ],
   "source": [
    "# 테스트셋의 오차\n",
    "y_vloss = history.history['val_loss']\n",
    "  \n",
    "# 학습셋의 오차\n",
    "y_loss = history.history['loss']\n",
    "  \n",
    "# 그래프로 표현\n",
    "x_len = numpy.arange(len(y_loss))\n",
    "plt.plot(x_len, y_vloss, marker='.', c=\"red\", label='Testset_loss')\n",
    "plt.plot(x_len, y_loss, marker='.', c=\"blue\", label='Trainset_loss')\n",
    "  \n",
    "# 그래프에 그리드를 주고 레이블을 표시\n",
    "plt.legend(loc='upper right')\n",
    "plt.grid()\n",
    "plt.xlabel('epoch')\n",
    "plt.ylabel('loss')\n",
    "plt.show()"
   ]
  },
  {
   "cell_type": "code",
   "execution_count": null,
   "id": "0fcae6c0-d55b-48f9-9bdc-417e7c5bd808",
   "metadata": {},
   "outputs": [],
   "source": []
  },
  {
   "cell_type": "code",
   "execution_count": null,
   "id": "36a5aaef-7c63-4a86-bac7-c5bade2e79d1",
   "metadata": {},
   "outputs": [],
   "source": []
  },
  {
   "cell_type": "code",
   "execution_count": null,
   "id": "ff096b4f-4803-4679-b87a-a30fa2aa3183",
   "metadata": {},
   "outputs": [],
   "source": []
  }
 ],
 "metadata": {
  "kernelspec": {
   "display_name": "Python 3",
   "language": "python",
   "name": "python3"
  },
  "language_info": {
   "codemirror_mode": {
    "name": "ipython",
    "version": 3
   },
   "file_extension": ".py",
   "mimetype": "text/x-python",
   "name": "python",
   "nbconvert_exporter": "python",
   "pygments_lexer": "ipython3",
   "version": "3.7.10"
  }
 },
 "nbformat": 4,
 "nbformat_minor": 5
}
