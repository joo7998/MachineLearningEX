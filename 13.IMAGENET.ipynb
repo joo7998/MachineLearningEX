{
 "cells": [
  {
   "cell_type": "markdown",
   "id": "e9763fe9-3d90-444b-a382-dcdf2a52262c",
   "metadata": {},
   "source": [
    "# 전이 학습으로 모델 성능 극대화 \n",
    "- 대규모 데이터 셋에서 학습된 기존의 네트워크를 불러\n",
    "- CNN 모델의 앞쪽을 이 네트워크로 채웁니다. \n",
    "- 그리고 뒤쪽 레이어에서 나의 프로젝트와 연결\n",
    "- 그리고 이 두 네트워크가 잘 맞물리게끔 미세 조정(Fine tuning)"
   ]
  },
  {
   "cell_type": "markdown",
   "id": "548724f4-e456-4eb6-8bb6-ddd7c68ac6e9",
   "metadata": {},
   "source": [
    "# 미리 학습된 모델인 VGGNet\n",
    "- 옥스포드대학의 연구팀 VGG\n",
    "- 2014년 이미지넷 이미지 인식 대회에서 2위\n",
    "- VGG16"
   ]
  },
  {
   "cell_type": "code",
   "execution_count": null,
   "id": "70ce8a76-74f9-4aee-882d-f96a7579f102",
   "metadata": {},
   "outputs": [],
   "source": [
    "# https://thebook.io/080228/part06/01/"
   ]
  },
  {
   "cell_type": "code",
   "execution_count": 1,
   "id": "0cb90893-45d2-4599-b1aa-dd26d2dcaa0f",
   "metadata": {},
   "outputs": [],
   "source": [
    "import tensorflow as tf\n",
    "import numpy as np\n",
    "import matplotlib.pyplot as plt\n",
    "\n",
    "from tensorflow.keras.models import Sequential\n",
    "from tensorflow.keras.preprocessing.image import ImageDataGenerator\n",
    "from tensorflow.keras import Input, models, layers, optimizers, metrics\n",
    "from tensorflow.keras.layers import Dense, Flatten\n",
    "from tensorflow.keras.applications import VGG16"
   ]
  },
  {
   "cell_type": "code",
   "execution_count": null,
   "id": "f313a556-17a0-47fe-a7ad-52b14cf92f14",
   "metadata": {},
   "outputs": [],
   "source": [
    "gpus = tf.config.experimental.list_physical_devices('GPU')\n",
    "if gpus:\n",
    "    try:\n",
    "        # Currently, memory growth needs to be the same across GPUs\n",
    "        for gpu in gpus:\n",
    "            tf.config.experimental.set_memory_growth(gpu, True)\n",
    "        logical_gpus = tf.config.experimental.list_logical_devices('GPU')\n",
    "        print(len(gpus), \"Physical GPUs,\", len(logical_gpus), \"Logical GPUs\")\n",
    "    except RuntimeError as e:\n",
    "        # Memory growth must be set before GPUs have been initialized\n",
    "        print(e)"
   ]
  },
  {
   "cell_type": "code",
   "execution_count": 3,
   "id": "faa4d183-ff70-4ca3-9002-b10453fd45e9",
   "metadata": {},
   "outputs": [],
   "source": [
    "train_datagen = ImageDataGenerator(rescale=1./255, horizontal_flip=True, \n",
    "                                   width_shift_range=0.1, height_shift_range=0.1, \n",
    "                                   fill_mode='nearest')"
   ]
  },
  {
   "cell_type": "code",
   "execution_count": 5,
   "id": "8b3a81bb-3872-4258-b0db-9b705eb90c76",
   "metadata": {},
   "outputs": [
    {
     "name": "stdout",
     "output_type": "stream",
     "text": [
      "Found 160 images belonging to 2 classes.\n"
     ]
    }
   ],
   "source": [
    "train_generator = train_datagen.flow_from_directory('train', target_size=(150, 150), \n",
    "                                                    batch_size=5, class_mode='binary')\n",
    "test_datagen = ImageDataGenerator(rescale=1./255, horizontal_flip=True, \n",
    "                                  width_shift_range=0.1, height_shift_range=0.1, \n",
    "                                  fill_mode='nearest')"
   ]
  },
  {
   "cell_type": "code",
   "execution_count": 6,
   "id": "2a5b3576-2e68-46f1-88df-010fc9950fbf",
   "metadata": {},
   "outputs": [
    {
     "name": "stdout",
     "output_type": "stream",
     "text": [
      "Found 120 images belonging to 2 classes.\n"
     ]
    }
   ],
   "source": [
    "test_generator = test_datagen.flow_from_directory('test', target_size=(150, 150), \n",
    "                                                  batch_size=5, class_mode='binary')\n",
    "\n"
   ]
  },
  {
   "cell_type": "code",
   "execution_count": 7,
   "id": "9c988844-a809-436b-9f66-2c6bef7f0c23",
   "metadata": {},
   "outputs": [
    {
     "name": "stdout",
     "output_type": "stream",
     "text": [
      "Downloading data from https://github.com/fchollet/deep-learning-models/releases/download/v0.1/vgg16_weights_tf_dim_ordering_tf_kernels_notop.h5\n",
      "58892288/58889256 [==============================] - 16s 0us/step\n"
     ]
    }
   ],
   "source": [
    "transfer_model = VGG16(weights='imagenet', include_top=False, \n",
    "                       input_shape=(150, 150, 3))\n",
    "# include_top은 전체 VGG16의 마지막 층, 즉 분류를 담당하는 곳을 불러올지 말지\n",
    "# 로컬 네트워크를 연결할 것이므로 False로 설정\n",
    "transfer_model.trainable = False\n",
    "# 불러올 부분은 새롭게 학습되는 것이 아니므로 \n",
    "# 학습이 되지 않도록 transfer_model.trainable 옵션 역시 False"
   ]
  },
  {
   "cell_type": "code",
   "execution_count": 8,
   "id": "fd52ba12-534d-4722-a040-3269d0752bf4",
   "metadata": {},
   "outputs": [
    {
     "name": "stdout",
     "output_type": "stream",
     "text": [
      "Model: \"vgg16\"\n",
      "_________________________________________________________________\n",
      "Layer (type)                 Output Shape              Param #   \n",
      "=================================================================\n",
      "input_1 (InputLayer)         [(None, 150, 150, 3)]     0         \n",
      "_________________________________________________________________\n",
      "block1_conv1 (Conv2D)        (None, 150, 150, 64)      1792      \n",
      "_________________________________________________________________\n",
      "block1_conv2 (Conv2D)        (None, 150, 150, 64)      36928     \n",
      "_________________________________________________________________\n",
      "block1_pool (MaxPooling2D)   (None, 75, 75, 64)        0         \n",
      "_________________________________________________________________\n",
      "block2_conv1 (Conv2D)        (None, 75, 75, 128)       73856     \n",
      "_________________________________________________________________\n",
      "block2_conv2 (Conv2D)        (None, 75, 75, 128)       147584    \n",
      "_________________________________________________________________\n",
      "block2_pool (MaxPooling2D)   (None, 37, 37, 128)       0         \n",
      "_________________________________________________________________\n",
      "block3_conv1 (Conv2D)        (None, 37, 37, 256)       295168    \n",
      "_________________________________________________________________\n",
      "block3_conv2 (Conv2D)        (None, 37, 37, 256)       590080    \n",
      "_________________________________________________________________\n",
      "block3_conv3 (Conv2D)        (None, 37, 37, 256)       590080    \n",
      "_________________________________________________________________\n",
      "block3_pool (MaxPooling2D)   (None, 18, 18, 256)       0         \n",
      "_________________________________________________________________\n",
      "block4_conv1 (Conv2D)        (None, 18, 18, 512)       1180160   \n",
      "_________________________________________________________________\n",
      "block4_conv2 (Conv2D)        (None, 18, 18, 512)       2359808   \n",
      "_________________________________________________________________\n",
      "block4_conv3 (Conv2D)        (None, 18, 18, 512)       2359808   \n",
      "_________________________________________________________________\n",
      "block4_pool (MaxPooling2D)   (None, 9, 9, 512)         0         \n",
      "_________________________________________________________________\n",
      "block5_conv1 (Conv2D)        (None, 9, 9, 512)         2359808   \n",
      "_________________________________________________________________\n",
      "block5_conv2 (Conv2D)        (None, 9, 9, 512)         2359808   \n",
      "_________________________________________________________________\n",
      "block5_conv3 (Conv2D)        (None, 9, 9, 512)         2359808   \n",
      "_________________________________________________________________\n",
      "block5_pool (MaxPooling2D)   (None, 4, 4, 512)         0         \n",
      "=================================================================\n",
      "Total params: 14,714,688\n",
      "Trainable params: 0\n",
      "Non-trainable params: 14,714,688\n",
      "_________________________________________________________________\n"
     ]
    }
   ],
   "source": [
    "transfer_model.summary()"
   ]
  },
  {
   "cell_type": "code",
   "execution_count": 10,
   "id": "c5802b25-4fb7-4db9-a3d5-d1419cf3b05a",
   "metadata": {},
   "outputs": [],
   "source": [
    "finetune_model = models.Sequential()\n",
    "finetune_model.add(transfer_model)\n",
    "finetune_model.add(Flatten())\n",
    "finetune_model.add(Dense(64, activation='relu'))\n",
    "finetune_model.add(Dense(2, activation='softmax'))"
   ]
  },
  {
   "cell_type": "code",
   "execution_count": 11,
   "id": "8914b348-63e1-4692-a505-1496173959c0",
   "metadata": {},
   "outputs": [
    {
     "name": "stdout",
     "output_type": "stream",
     "text": [
      "Model: \"sequential\"\n",
      "_________________________________________________________________\n",
      "Layer (type)                 Output Shape              Param #   \n",
      "=================================================================\n",
      "vgg16 (Model)                (None, 4, 4, 512)         14714688  \n",
      "_________________________________________________________________\n",
      "flatten (Flatten)            (None, 8192)              0         \n",
      "_________________________________________________________________\n",
      "dense (Dense)                (None, 64)                524352    \n",
      "_________________________________________________________________\n",
      "dense_1 (Dense)              (None, 2)                 130       \n",
      "=================================================================\n",
      "Total params: 15,239,170\n",
      "Trainable params: 524,482\n",
      "Non-trainable params: 14,714,688\n",
      "_________________________________________________________________\n"
     ]
    }
   ],
   "source": [
    "finetune_model.summary()"
   ]
  },
  {
   "cell_type": "code",
   "execution_count": 13,
   "id": "8f4be09c-18f4-4a84-b065-1b0ed68ee032",
   "metadata": {},
   "outputs": [],
   "source": [
    "finetune_model.compile(loss='sparse_categorical_crossentropy', \n",
    "                       optimizer=optimizers.Adam(learning_rate=0.0002), \n",
    "                       metrics=['accuracy'])"
   ]
  },
  {
   "cell_type": "code",
   "execution_count": null,
   "id": "6f6ec46f-df04-4d61-8f55-b07d32252cd1",
   "metadata": {},
   "outputs": [],
   "source": [
    "steps_train = len(train_generator)\n",
    "steps_test = len(test_generator)"
   ]
  },
  {
   "cell_type": "code",
   "execution_count": 15,
   "id": "71955214-04d4-4e44-8491-0d7a9af9134e",
   "metadata": {
    "collapsed": true,
    "jupyter": {
     "outputs_hidden": true
    },
    "tags": []
   },
   "outputs": [
    {
     "name": "stdout",
     "output_type": "stream",
     "text": [
      "Train for 32 steps, validate for 24 steps\n",
      "Epoch 1/20\n",
      "32/32 [==============================] - 11s 359ms/step - loss: 0.4997 - accuracy: 0.7812 - val_loss: 0.4423 - val_accuracy: 0.8583\n",
      "Epoch 2/20\n",
      "32/32 [==============================] - 11s 345ms/step - loss: 0.4089 - accuracy: 0.8250 - val_loss: 0.3275 - val_accuracy: 0.9000\n",
      "Epoch 3/20\n",
      "32/32 [==============================] - 11s 347ms/step - loss: 0.3231 - accuracy: 0.8625 - val_loss: 0.3071 - val_accuracy: 0.9000\n",
      "Epoch 4/20\n",
      "32/32 [==============================] - 11s 341ms/step - loss: 0.2198 - accuracy: 0.9312 - val_loss: 0.2352 - val_accuracy: 0.9500\n",
      "Epoch 5/20\n",
      "32/32 [==============================] - 11s 345ms/step - loss: 0.2024 - accuracy: 0.9563 - val_loss: 0.2238 - val_accuracy: 0.9167\n",
      "Epoch 6/20\n",
      "32/32 [==============================] - 12s 367ms/step - loss: 0.1691 - accuracy: 0.9688 - val_loss: 0.1971 - val_accuracy: 0.9333\n",
      "Epoch 7/20\n",
      "32/32 [==============================] - 11s 358ms/step - loss: 0.1561 - accuracy: 0.9375 - val_loss: 0.1926 - val_accuracy: 0.9250\n",
      "Epoch 8/20\n",
      "32/32 [==============================] - 11s 342ms/step - loss: 0.1563 - accuracy: 0.9500 - val_loss: 0.1815 - val_accuracy: 0.9417\n",
      "Epoch 9/20\n",
      "32/32 [==============================] - 11s 340ms/step - loss: 0.1243 - accuracy: 0.9688 - val_loss: 0.2190 - val_accuracy: 0.9083\n",
      "Epoch 10/20\n",
      "32/32 [==============================] - 11s 339ms/step - loss: 0.1041 - accuracy: 0.9812 - val_loss: 0.1792 - val_accuracy: 0.9333\n",
      "Epoch 11/20\n",
      "32/32 [==============================] - 11s 343ms/step - loss: 0.1085 - accuracy: 0.9750 - val_loss: 0.1824 - val_accuracy: 0.9167\n",
      "Epoch 12/20\n",
      "32/32 [==============================] - 11s 347ms/step - loss: 0.1086 - accuracy: 0.9812 - val_loss: 0.1446 - val_accuracy: 0.9500\n",
      "Epoch 13/20\n",
      "32/32 [==============================] - 11s 352ms/step - loss: 0.1074 - accuracy: 0.9625 - val_loss: 0.1325 - val_accuracy: 0.9417\n",
      "Epoch 14/20\n",
      "32/32 [==============================] - 11s 354ms/step - loss: 0.1210 - accuracy: 0.9563 - val_loss: 0.1692 - val_accuracy: 0.9250\n",
      "Epoch 15/20\n",
      "32/32 [==============================] - 11s 355ms/step - loss: 0.0776 - accuracy: 0.9812 - val_loss: 0.1497 - val_accuracy: 0.9417\n",
      "Epoch 16/20\n",
      "32/32 [==============================] - 11s 358ms/step - loss: 0.0945 - accuracy: 0.9688 - val_loss: 0.1374 - val_accuracy: 0.9500\n",
      "Epoch 17/20\n",
      "32/32 [==============================] - 11s 354ms/step - loss: 0.0742 - accuracy: 0.9875 - val_loss: 0.1837 - val_accuracy: 0.9333\n",
      "Epoch 18/20\n",
      "32/32 [==============================] - 11s 355ms/step - loss: 0.0743 - accuracy: 0.9937 - val_loss: 0.1557 - val_accuracy: 0.9167\n",
      "Epoch 19/20\n",
      "32/32 [==============================] - 11s 352ms/step - loss: 0.0928 - accuracy: 0.9750 - val_loss: 0.1102 - val_accuracy: 0.9583\n",
      "Epoch 20/20\n",
      "32/32 [==============================] - 11s 346ms/step - loss: 0.0885 - accuracy: 0.9563 - val_loss: 0.1551 - val_accuracy: 0.9250\n"
     ]
    }
   ],
   "source": [
    "history = finetune_model.fit(\n",
    "       train_generator,\n",
    "       steps_per_epoch=steps_train,\n",
    "       epochs=20,\n",
    "       validation_data=test_generator,\n",
    "       validation_steps=steps_test)"
   ]
  },
  {
   "cell_type": "code",
   "execution_count": 17,
   "id": "2048b1dc-201a-453b-b606-7dca9409192d",
   "metadata": {},
   "outputs": [],
   "source": [
    "acc = history.history['accuracy']\n",
    "val_acc = history.history['val_accuracy']\n",
    "y_vloss = history.history['val_loss']\n",
    "y_loss = history.history['loss']"
   ]
  },
  {
   "cell_type": "code",
   "execution_count": 19,
   "id": "deba5b6d-7653-4854-87e4-f6d7549096f3",
   "metadata": {},
   "outputs": [
    {
     "data": {
      "image/png": "[encoded data removed]",
      "text/plain": [
       "<Figure size 640x480 with 1 Axes>"
      ]
     },
     "metadata": {},
     "output_type": "display_data"
    }
   ],
   "source": [
    "# 그래프로 표현\n",
    "x_len = np.arange(len(y_loss))\n",
    "plt.plot(x_len, acc, marker='.', c='red', label='Trainset_acc')\n",
    "plt.plot(x_len, val_acc, marker='.', c='lightcoral', label='Testset_acc')\n",
    "plt.plot(x_len, y_vloss, marker='.', c='cornflowerblue', label='Testset_loss')\n",
    "plt.plot(x_len, y_loss, marker='.', c='blue', label='Trainset_loss')\n",
    "\n",
    "# 그래프에 그리드를 주고 레이블을 표시\n",
    "plt.legend(loc='upper right')\n",
    "plt.grid()\n",
    "plt.xlabel('epoch')\n",
    "plt.ylabel('loss/acc')\n",
    "plt.show()"
   ]
  },
  {
   "cell_type": "code",
   "execution_count": null,
   "id": "970aa138-3f8a-49e9-8bff-d9a7af428849",
   "metadata": {},
   "outputs": [],
   "source": [
    "# 훨씬 더 안정적으로 나왔음"
   ]
  }
 ],
 "metadata": {
  "kernelspec": {
   "display_name": "Python 3 (ipykernel)",
   "language": "python",
   "name": "python3"
  },
  "language_info": {
   "codemirror_mode": {
    "name": "ipython",
    "version": 3
   },
   "file_extension": ".py",
   "mimetype": "text/x-python",
   "name": "python",
   "nbconvert_exporter": "python",
   "pygments_lexer": "ipython3",
   "version": "3.7.10"
  }
 },
 "nbformat": 4,
 "nbformat_minor": 5
}
