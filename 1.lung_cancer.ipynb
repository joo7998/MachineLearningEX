{
 "cells": [
  {
   "cell_type": "code",
   "execution_count": 2,
   "id": "298228fa-c57d-4b38-a0a2-2a8dad1f1c07",
   "metadata": {},
   "outputs": [],
   "source": [
    "from tensorflow.keras.models import Sequential \n",
    "from tensorflow.keras.layers import Dense"
   ]
  },
  {
   "cell_type": "code",
   "execution_count": 3,
   "id": "71e59b5f-3089-44e5-aeb6-3abeef051ef7",
   "metadata": {},
   "outputs": [],
   "source": [
    "import numpy as np \n",
    "import tensorflow as tf"
   ]
  },
  {
   "cell_type": "code",
   "execution_count": null,
   "id": "e3e4d618-2515-4c94-9874-9584e1654915",
   "metadata": {},
   "outputs": [],
   "source": [
    "## GPU 설정 : 컴퓨터 & 아나콘다에서 "
   ]
  },
  {
   "cell_type": "code",
   "execution_count": null,
   "id": "8b1efec6-11f0-4ac0-9c0d-432a0508ebc5",
   "metadata": {},
   "outputs": [],
   "source": [
    "# 참고 : https://thebook.io/080228/part01/ch02/"
   ]
  },
  {
   "cell_type": "markdown",
   "id": "4d850eb6-e6eb-416f-880a-5595138cb6de",
   "metadata": {},
   "source": [
    "# 이항 분류(binary classification)\n",
    "\n",
    "# 폐암 수슬 환자의 생존율 예측\n",
    "\n",
    "## 목적: 1번째부터 17번째까지의 항목을 분석해서 => 18번째 항목, 즉 수술 후 생존 또는 사망을 맞히는 것"
   ]
  },
  {
   "cell_type": "code",
   "execution_count": 4,
   "id": "0a82f69d-954c-4562-877e-b674aae20a2d",
   "metadata": {},
   "outputs": [],
   "source": [
    "np.random.seed(3)\n",
    "tf.random.set_seed(3)"
   ]
  },
  {
   "cell_type": "code",
   "execution_count": 5,
   "id": "0a423968-40e3-4a4d-9238-705b61643aae",
   "metadata": {},
   "outputs": [],
   "source": [
    "Data_set = np.loadtxt('../dataset/ThoraricSurgery.csv', delimiter=',')"
   ]
  },
  {
   "cell_type": "code",
   "execution_count": 9,
   "id": "2aa35717-24f3-4330-a2a2-c741319df213",
   "metadata": {},
   "outputs": [
    {
     "data": {
      "text/plain": [
       "array([[293.  ,   1.  ,   3.8 , ...,   0.  ,  62.  ,   0.  ],\n",
       "       [  1.  ,   2.  ,   2.88, ...,   0.  ,  60.  ,   0.  ],\n",
       "       [  8.  ,   2.  ,   3.19, ...,   0.  ,  66.  ,   1.  ],\n",
       "       ...,\n",
       "       [406.  ,   6.  ,   5.36, ...,   0.  ,  62.  ,   0.  ],\n",
       "       [ 25.  ,   8.  ,   4.32, ...,   0.  ,  58.  ,   1.  ],\n",
       "       [447.  ,   8.  ,   5.2 , ...,   0.  ,  49.  ,   0.  ]])"
      ]
     },
     "execution_count": 9,
     "metadata": {},
     "output_type": "execute_result"
    }
   ],
   "source": [
    "Data_set"
   ]
  },
  {
   "cell_type": "code",
   "execution_count": null,
   "id": "d07e3d98-dcf9-411e-af64-0df6f115a468",
   "metadata": {},
   "outputs": [],
   "source": [
    "# 총 470행이므로 470명의 환자\n",
    "# 환자마다 18개의 정보(환자 상태)\n",
    "\n",
    "# 1~ 17번째 : 속성(attribute)\n",
    "#             종양의 유형, 폐활량, 호흡 곤란 여부, 고통 정도, 기침, 흡연, 천식 여부, etc\n",
    "#             (1:TRUE-해당사항 O <---> 0:FALSE)\n",
    "# 18번째 :    클래스(class)  = 정답\n",
    "#            수술 후 생존 결과 (1:생존, 0:사망)\n",
    "\n",
    "# 1번째부터 17번째까지의 항목을 분석해서 => 18번째 항목, 즉 수술 후 생존 또는 사망을 맞히는 것"
   ]
  },
  {
   "cell_type": "code",
   "execution_count": 6,
   "id": "6e0d87e6-4694-4fa1-af8d-3b2f5725143c",
   "metadata": {},
   "outputs": [],
   "source": [
    "X = Data_set[:,0:17]\n",
    "Y = Data_set[:, 17]\n",
    "\n",
    "# 딥러닝을 구동시키려면 ‘속성’만을 뽑아 데이터셋을 만들고, \n",
    "# ‘클래스’를 담는 데이터셋을 또 따로 만들어 줘야 합니다"
   ]
  },
  {
   "cell_type": "code",
   "execution_count": 7,
   "id": "21830f24-cdf8-4e25-98dc-aa4dd65e2c0a",
   "metadata": {},
   "outputs": [],
   "source": [
    "model = Sequential()\n",
    "model.add(Dense(30, input_dim=17, activation='relu'))\n",
    "model.add(Dense(1, activation='sigmoid'))\n",
    "# Desne = Fully connected network "
   ]
  },
  {
   "cell_type": "code",
   "execution_count": 13,
   "id": "e8a2b579-ee8f-4919-a0b0-7f62d6f20ff0",
   "metadata": {},
   "outputs": [
    {
     "name": "stdout",
     "output_type": "stream",
     "text": [
      "Model: \"sequential\"\n",
      "_________________________________________________________________\n",
      "Layer (type)                 Output Shape              Param #   \n",
      "=================================================================\n",
      "dense (Dense)                (None, 30)                540       \n",
      "_________________________________________________________________\n",
      "dense_1 (Dense)              (None, 1)                 31        \n",
      "=================================================================\n",
      "Total params: 571\n",
      "Trainable params: 571\n",
      "Non-trainable params: 0\n",
      "_________________________________________________________________\n"
     ]
    }
   ],
   "source": [
    "model.summary()"
   ]
  },
  {
   "cell_type": "code",
   "execution_count": 12,
   "id": "1919e7b0-cd72-43b1-8a97-6a7da336d905",
   "metadata": {
    "collapsed": true,
    "jupyter": {
     "outputs_hidden": true
    },
    "tags": []
   },
   "outputs": [
    {
     "name": "stdout",
     "output_type": "stream",
     "text": [
      "Epoch 1/100\n",
      "47/47 [==============================] - 0s 638us/step - loss: 0.1485 - accuracy: 0.8426\n",
      "Epoch 2/100\n",
      "47/47 [==============================] - 0s 596us/step - loss: 0.1402 - accuracy: 0.8511\n",
      "Epoch 3/100\n",
      "47/47 [==============================] - 0s 638us/step - loss: 0.1433 - accuracy: 0.8489\n",
      "Epoch 4/100\n",
      "47/47 [==============================] - 0s 617us/step - loss: 0.1395 - accuracy: 0.8511\n",
      "Epoch 5/100\n",
      "47/47 [==============================] - 0s 617us/step - loss: 0.1386 - accuracy: 0.8468\n",
      "Epoch 6/100\n",
      "47/47 [==============================] - 0s 596us/step - loss: 0.1407 - accuracy: 0.8511\n",
      "Epoch 7/100\n",
      "47/47 [==============================] - 0s 575us/step - loss: 0.1336 - accuracy: 0.8489\n",
      "Epoch 8/100\n",
      "47/47 [==============================] - 0s 596us/step - loss: 0.1384 - accuracy: 0.8511\n",
      "Epoch 9/100\n",
      "47/47 [==============================] - 0s 617us/step - loss: 0.1376 - accuracy: 0.8383\n",
      "Epoch 10/100\n",
      "47/47 [==============================] - 0s 596us/step - loss: 0.1438 - accuracy: 0.8447\n",
      "Epoch 11/100\n",
      "47/47 [==============================] - 0s 617us/step - loss: 0.1409 - accuracy: 0.8511\n",
      "Epoch 12/100\n",
      "47/47 [==============================] - 0s 574us/step - loss: 0.1370 - accuracy: 0.8489\n",
      "Epoch 13/100\n",
      "47/47 [==============================] - 0s 596us/step - loss: 0.1362 - accuracy: 0.8511\n",
      "Epoch 14/100\n",
      "47/47 [==============================] - 0s 638us/step - loss: 0.1364 - accuracy: 0.8489\n",
      "Epoch 15/100\n",
      "47/47 [==============================] - 0s 574us/step - loss: 0.1369 - accuracy: 0.8511\n",
      "Epoch 16/100\n",
      "47/47 [==============================] - 0s 617us/step - loss: 0.1394 - accuracy: 0.8489\n",
      "Epoch 17/100\n",
      "47/47 [==============================] - 0s 638us/step - loss: 0.1389 - accuracy: 0.8511\n",
      "Epoch 18/100\n",
      "47/47 [==============================] - 0s 596us/step - loss: 0.1424 - accuracy: 0.8489\n",
      "Epoch 19/100\n",
      "47/47 [==============================] - 0s 617us/step - loss: 0.1372 - accuracy: 0.8511\n",
      "Epoch 20/100\n",
      "47/47 [==============================] - 0s 617us/step - loss: 0.1330 - accuracy: 0.8532\n",
      "Epoch 21/100\n",
      "47/47 [==============================] - 0s 617us/step - loss: 0.1361 - accuracy: 0.8468\n",
      "Epoch 22/100\n",
      "47/47 [==============================] - 0s 638us/step - loss: 0.1322 - accuracy: 0.8489\n",
      "Epoch 23/100\n",
      "47/47 [==============================] - 0s 596us/step - loss: 0.1386 - accuracy: 0.8489\n",
      "Epoch 24/100\n",
      "47/47 [==============================] - 0s 596us/step - loss: 0.1345 - accuracy: 0.8511\n",
      "Epoch 25/100\n",
      "47/47 [==============================] - 0s 638us/step - loss: 0.1307 - accuracy: 0.8511\n",
      "Epoch 26/100\n",
      "47/47 [==============================] - 0s 594us/step - loss: 0.1337 - accuracy: 0.8489\n",
      "Epoch 27/100\n",
      "47/47 [==============================] - 0s 617us/step - loss: 0.1341 - accuracy: 0.8489\n",
      "Epoch 28/100\n",
      "47/47 [==============================] - 0s 596us/step - loss: 0.1327 - accuracy: 0.8468\n",
      "Epoch 29/100\n",
      "47/47 [==============================] - 0s 617us/step - loss: 0.1326 - accuracy: 0.8532\n",
      "Epoch 30/100\n",
      "47/47 [==============================] - 0s 617us/step - loss: 0.1271 - accuracy: 0.8532\n",
      "Epoch 31/100\n",
      "47/47 [==============================] - 0s 596us/step - loss: 0.1437 - accuracy: 0.8489\n",
      "Epoch 32/100\n",
      "47/47 [==============================] - 0s 596us/step - loss: 0.1401 - accuracy: 0.8489\n",
      "Epoch 33/100\n",
      "47/47 [==============================] - 0s 660us/step - loss: 0.1369 - accuracy: 0.8511\n",
      "Epoch 34/100\n",
      "47/47 [==============================] - 0s 660us/step - loss: 0.1274 - accuracy: 0.8532\n",
      "Epoch 35/100\n",
      "47/47 [==============================] - 0s 596us/step - loss: 0.1420 - accuracy: 0.8511\n",
      "Epoch 36/100\n",
      "47/47 [==============================] - 0s 660us/step - loss: 0.1404 - accuracy: 0.8489\n",
      "Epoch 37/100\n",
      "47/47 [==============================] - 0s 596us/step - loss: 0.1400 - accuracy: 0.8489\n",
      "Epoch 38/100\n",
      "47/47 [==============================] - 0s 617us/step - loss: 0.1366 - accuracy: 0.8511\n",
      "Epoch 39/100\n",
      "47/47 [==============================] - 0s 553us/step - loss: 0.1287 - accuracy: 0.8553\n",
      "Epoch 40/100\n",
      "47/47 [==============================] - 0s 596us/step - loss: 0.1316 - accuracy: 0.8574\n",
      "Epoch 41/100\n",
      "47/47 [==============================] - 0s 553us/step - loss: 0.1408 - accuracy: 0.8489\n",
      "Epoch 42/100\n",
      "47/47 [==============================] - 0s 596us/step - loss: 0.1361 - accuracy: 0.8511\n",
      "Epoch 43/100\n",
      "47/47 [==============================] - 0s 617us/step - loss: 0.1321 - accuracy: 0.8489\n",
      "Epoch 44/100\n",
      "47/47 [==============================] - 0s 617us/step - loss: 0.1260 - accuracy: 0.8553\n",
      "Epoch 45/100\n",
      "47/47 [==============================] - 0s 596us/step - loss: 0.1283 - accuracy: 0.8532\n",
      "Epoch 46/100\n",
      "47/47 [==============================] - 0s 562us/step - loss: 0.1250 - accuracy: 0.8489\n",
      "Epoch 47/100\n",
      "47/47 [==============================] - 0s 574us/step - loss: 0.1285 - accuracy: 0.8553\n",
      "Epoch 48/100\n",
      "47/47 [==============================] - 0s 617us/step - loss: 0.1356 - accuracy: 0.8511\n",
      "Epoch 49/100\n",
      "47/47 [==============================] - 0s 638us/step - loss: 0.1330 - accuracy: 0.8468\n",
      "Epoch 50/100\n",
      "47/47 [==============================] - 0s 638us/step - loss: 0.1231 - accuracy: 0.8574\n",
      "Epoch 51/100\n",
      "47/47 [==============================] - 0s 638us/step - loss: 0.1263 - accuracy: 0.8532\n",
      "Epoch 52/100\n",
      "47/47 [==============================] - 0s 650us/step - loss: 0.1264 - accuracy: 0.8532\n",
      "Epoch 53/100\n",
      "47/47 [==============================] - 0s 660us/step - loss: 0.1361 - accuracy: 0.8532\n",
      "Epoch 54/100\n",
      "47/47 [==============================] - 0s 617us/step - loss: 0.1267 - accuracy: 0.8596\n",
      "Epoch 55/100\n",
      "47/47 [==============================] - 0s 638us/step - loss: 0.1239 - accuracy: 0.8574\n",
      "Epoch 56/100\n",
      "47/47 [==============================] - 0s 638us/step - loss: 0.1225 - accuracy: 0.8511\n",
      "Epoch 57/100\n",
      "47/47 [==============================] - 0s 617us/step - loss: 0.1253 - accuracy: 0.8426\n",
      "Epoch 58/100\n",
      "47/47 [==============================] - 0s 681us/step - loss: 0.1407 - accuracy: 0.8447\n",
      "Epoch 59/100\n",
      "47/47 [==============================] - 0s 638us/step - loss: 0.1407 - accuracy: 0.8489\n",
      "Epoch 60/100\n",
      "47/47 [==============================] - 0s 617us/step - loss: 0.1347 - accuracy: 0.8532\n",
      "Epoch 61/100\n",
      "47/47 [==============================] - 0s 593us/step - loss: 0.1291 - accuracy: 0.8596\n",
      "Epoch 62/100\n",
      "47/47 [==============================] - 0s 617us/step - loss: 0.1321 - accuracy: 0.8489\n",
      "Epoch 63/100\n",
      "47/47 [==============================] - 0s 660us/step - loss: 0.1252 - accuracy: 0.8553\n",
      "Epoch 64/100\n",
      "47/47 [==============================] - 0s 702us/step - loss: 0.1294 - accuracy: 0.8511\n",
      "Epoch 65/100\n",
      "47/47 [==============================] - 0s 681us/step - loss: 0.1217 - accuracy: 0.8511\n",
      "Epoch 66/100\n",
      "47/47 [==============================] - 0s 745us/step - loss: 0.1260 - accuracy: 0.8489\n",
      "Epoch 67/100\n",
      "47/47 [==============================] - 0s 659us/step - loss: 0.1205 - accuracy: 0.8532\n",
      "Epoch 68/100\n",
      "47/47 [==============================] - 0s 660us/step - loss: 0.1232 - accuracy: 0.8553\n",
      "Epoch 69/100\n",
      "47/47 [==============================] - 0s 638us/step - loss: 0.1304 - accuracy: 0.8553\n",
      "Epoch 70/100\n",
      "47/47 [==============================] - 0s 638us/step - loss: 0.1225 - accuracy: 0.8553\n",
      "Epoch 71/100\n",
      "47/47 [==============================] - 0s 681us/step - loss: 0.1240 - accuracy: 0.8426\n",
      "Epoch 72/100\n",
      "47/47 [==============================] - 0s 638us/step - loss: 0.1382 - accuracy: 0.8532\n",
      "Epoch 73/100\n",
      "47/47 [==============================] - 0s 660us/step - loss: 0.1298 - accuracy: 0.8532\n",
      "Epoch 74/100\n",
      "47/47 [==============================] - 0s 617us/step - loss: 0.1221 - accuracy: 0.8574\n",
      "Epoch 75/100\n",
      "47/47 [==============================] - 0s 681us/step - loss: 0.1208 - accuracy: 0.8553\n",
      "Epoch 76/100\n",
      "47/47 [==============================] - 0s 591us/step - loss: 0.1257 - accuracy: 0.8553\n",
      "Epoch 77/100\n",
      "47/47 [==============================] - 0s 638us/step - loss: 0.1300 - accuracy: 0.8574\n",
      "Epoch 78/100\n",
      "47/47 [==============================] - 0s 638us/step - loss: 0.1263 - accuracy: 0.8511\n",
      "Epoch 79/100\n",
      "47/47 [==============================] - 0s 617us/step - loss: 0.1202 - accuracy: 0.8574\n",
      "Epoch 80/100\n",
      "47/47 [==============================] - 0s 617us/step - loss: 0.1228 - accuracy: 0.8511\n",
      "Epoch 81/100\n",
      "47/47 [==============================] - 0s 681us/step - loss: 0.1277 - accuracy: 0.8553\n",
      "Epoch 82/100\n",
      "47/47 [==============================] - 0s 638us/step - loss: 0.1249 - accuracy: 0.8596\n",
      "Epoch 83/100\n",
      "47/47 [==============================] - 0s 596us/step - loss: 0.1205 - accuracy: 0.8532\n",
      "Epoch 84/100\n",
      "47/47 [==============================] - 0s 660us/step - loss: 0.1318 - accuracy: 0.8404\n",
      "Epoch 85/100\n",
      "47/47 [==============================] - 0s 638us/step - loss: 0.1372 - accuracy: 0.8511\n",
      "Epoch 86/100\n",
      "47/47 [==============================] - 0s 617us/step - loss: 0.1352 - accuracy: 0.8511\n",
      "Epoch 87/100\n",
      "47/47 [==============================] - 0s 638us/step - loss: 0.1204 - accuracy: 0.8638\n",
      "Epoch 88/100\n",
      "47/47 [==============================] - 0s 596us/step - loss: 0.1197 - accuracy: 0.8511\n",
      "Epoch 89/100\n",
      "47/47 [==============================] - 0s 681us/step - loss: 0.1238 - accuracy: 0.8553\n",
      "Epoch 90/100\n",
      "47/47 [==============================] - 0s 660us/step - loss: 0.1302 - accuracy: 0.8553\n",
      "Epoch 91/100\n",
      "47/47 [==============================] - 0s 660us/step - loss: 0.1319 - accuracy: 0.8511\n",
      "Epoch 92/100\n",
      "47/47 [==============================] - 0s 659us/step - loss: 0.1224 - accuracy: 0.8532\n",
      "Epoch 93/100\n",
      "47/47 [==============================] - 0s 660us/step - loss: 0.1201 - accuracy: 0.8574\n",
      "Epoch 94/100\n",
      "47/47 [==============================] - 0s 681us/step - loss: 0.1233 - accuracy: 0.8511\n",
      "Epoch 95/100\n",
      "47/47 [==============================] - 0s 660us/step - loss: 0.1212 - accuracy: 0.8596\n",
      "Epoch 96/100\n",
      "47/47 [==============================] - 0s 638us/step - loss: 0.1293 - accuracy: 0.8532\n",
      "Epoch 97/100\n",
      "47/47 [==============================] - 0s 681us/step - loss: 0.1230 - accuracy: 0.8574\n",
      "Epoch 98/100\n",
      "47/47 [==============================] - 0s 723us/step - loss: 0.1290 - accuracy: 0.8468\n",
      "Epoch 99/100\n",
      "47/47 [==============================] - 0s 723us/step - loss: 0.1321 - accuracy: 0.8596\n",
      "Epoch 100/100\n",
      "47/47 [==============================] - 0s 702us/step - loss: 0.1177 - accuracy: 0.8617\n"
     ]
    },
    {
     "data": {
      "text/plain": [
       "<tensorflow.python.keras.callbacks.History at 0x2c0d0f09c08>"
      ]
     },
     "execution_count": 12,
     "metadata": {},
     "output_type": "execute_result"
    }
   ],
   "source": [
    "model.compile(loss='mean_squared_error', optimizer='adam', metrics=['accuracy'])\n",
    "model.fit(X, Y, epochs=100, batch_size=10)"
   ]
  },
  {
   "cell_type": "code",
   "execution_count": null,
   "id": "f9775585-d012-4a29-9d84-89ba0fb70aee",
   "metadata": {},
   "outputs": [],
   "source": [
    "# loss: 0.1177 - accuracy: 0.8617\n",
    "# loss (예측이 실패할 확률) \n",
    "# accuracy (예측이 성공할 확률) : 1.0 = 100%\n",
    "#                                0.8638 = 86.38% \n",
    "\n",
    "# 새로운 환자의 정보를 입력하면 => 이 환자의 수술 후 생존율을 86% 이상 맞힌다"
   ]
  },
  {
   "cell_type": "code",
   "execution_count": null,
   "id": "9e23cf3e-0154-4998-8cf2-4df816d493bf",
   "metadata": {},
   "outputs": [],
   "source": []
  },
  {
   "cell_type": "code",
   "execution_count": null,
   "id": "9b822caf-0bba-4392-8422-307c113bafd8",
   "metadata": {},
   "outputs": [],
   "source": []
  },
  {
   "cell_type": "code",
   "execution_count": null,
   "id": "d0a3882b-66db-4c10-b376-7e577ee8e792",
   "metadata": {},
   "outputs": [],
   "source": []
  }
 ],
 "metadata": {
  "kernelspec": {
   "display_name": "Python 3",
   "language": "python",
   "name": "python3"
  },
  "language_info": {
   "codemirror_mode": {
    "name": "ipython",
    "version": 3
   },
   "file_extension": ".py",
   "mimetype": "text/x-python",
   "name": "python",
   "nbconvert_exporter": "python",
   "pygments_lexer": "ipython3",
   "version": "3.7.10"
  }
 },
 "nbformat": 4,
 "nbformat_minor": 5
}
