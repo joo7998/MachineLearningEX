{
 "cells": [
  {
   "cell_type": "markdown",
   "id": "c4c200f3-e131-4d2f-bb71-7855175df187",
   "metadata": {},
   "source": [
    "# 순환 신경망(Recurrent Neural Network, RNN)\n",
    "- 과거에 입력된 데이터와 나중에 입력된 데이터 사이의 관계를 고려 => \"순서\"가 있는 데이터 \n",
    "- 스스로를 반복하면서 이전 단계에서 얻은 정보가 지속\n",
    "- 1) 여러 개의 데이터가 순서대로 입력되었을 때 앞서 입력받은 데이터를 잠시 기억해 놓는 방법\n",
    "- 2) 기억된 데이터가 얼마나 중요한지를 판단하여 별도의 가중치를 줘서 다음 데이터로 넘어갑니다\n",
    "- 3) 모든 입력 값에 이 작업을 순서대로 실행하므로 다음 층으로 넘어가기 전에 같은 층을 맴도는 것처럼 보입니다. 이렇게 같은 층 안에서 맴도는 성질 때문에 => 순환 신경망(이하 RNN)\n",
    "- (장점) 장점은 입력 값과 출력 값을 어떻게 설정하느냐에 따라 여러 가지 상황에서 이를 적용 \n",
    "-        ex) 번역, 문장의 의미 파악, 음성 인식, 언어 모델링, 번역, 이미지 주석 생성 \n",
    "- (단점) 한 층 안에서 반복을 많이 => 기울기 소실 문제 & 해결하기 어렵다\n",
    "-        (long-term dependencies => RNN)"
   ]
  },
  {
   "cell_type": "markdown",
   "id": "613cf58b-cd3f-4da3-a6ea-a8f8d00d2597",
   "metadata": {},
   "source": [
    "- => LSTM(Long Short Term Memory) 방법을 함께 사용\n",
    "-    긴 의존 기간을 필요로 하는 학습을 수행할 능력\n",
    "-    반복되기 직전에 다음 층으로 기억된 값을 넘길지 안 넘길지를 => 관리하는 단계를 하나 더 추가\n",
    "- https://dgkim5360.tistory.com/entry/understanding-long-short-term-memory-lstm-kr "
   ]
  },
  {
   "cell_type": "markdown",
   "id": "016c3969-d14a-4f51-89c3-ef8a0a2f8daa",
   "metadata": {},
   "source": [
    "# LSTM을 이용 => 로이터 뉴스 카테고리 분류\n",
    "- 입력된 문장의 의미를 파악 = 모든 단어를 종합하여 하나의 카테고리로 분류"
   ]
  },
  {
   "cell_type": "code",
   "execution_count": 1,
   "id": "a114e4cf-8f8f-4770-ba3b-0db0a8e50910",
   "metadata": {
    "tags": []
   },
   "outputs": [],
   "source": [
    "from keras.datasets import reuters\n",
    "from keras.models import Sequential\n",
    "from keras.layers import Dense, LSTM, Embedding\n",
    "from keras.preprocessing import sequence\n",
    "from keras.utils import np_utils\n",
    "from tensorflow.keras.utils import to_categorical \n",
    "import numpy as  np\n",
    "import tensorflow as tf\n",
    "import matplotlib.pyplot as plt\n",
    "  \n",
    "# seed 값 설정\n",
    "seed = 0\n",
    "np.random.seed(seed)\n",
    "tf.random.set_seed(3)"
   ]
  },
  {
   "cell_type": "code",
   "execution_count": 2,
   "id": "685c651c-73e1-4b17-8626-a61be8536e17",
   "metadata": {},
   "outputs": [
    {
     "name": "stderr",
     "output_type": "stream",
     "text": [
      "C:\\Users\\asus\\anaconda3\\envs\\django3\\lib\\site-packages\\tensorflow\\python\\keras\\datasets\\reuters.py:148: VisibleDeprecationWarning: Creating an ndarray from ragged nested sequences (which is a list-or-tuple of lists-or-tuples-or ndarrays with different lengths or shapes) is deprecated. If you meant to do this, you must specify 'dtype=object' when creating the ndarray\n",
      "  x_train, y_train = np.array(xs[:idx]), np.array(labels[:idx])\n",
      "C:\\Users\\asus\\anaconda3\\envs\\django3\\lib\\site-packages\\tensorflow\\python\\keras\\datasets\\reuters.py:149: VisibleDeprecationWarning: Creating an ndarray from ragged nested sequences (which is a list-or-tuple of lists-or-tuples-or ndarrays with different lengths or shapes) is deprecated. If you meant to do this, you must specify 'dtype=object' when creating the ndarray\n",
      "  x_test, y_test = np.array(xs[idx:]), np.array(labels[idx:])\n"
     ]
    }
   ],
   "source": [
    "# 불러온 데이터를 학습셋과 테스트셋으로 나누기\n",
    "(X_train, Y_train), (X_test, Y_test) = reuters.load_data(num_words=1000, test_split=0.2)\n",
    "# num_word=1000 => 빈도가 1~1,000에 해당하는 단어만 선택해서 불러"
   ]
  },
  {
   "cell_type": "code",
   "execution_count": 3,
   "id": "86f47d0a-760b-4b1b-8cbb-e31f027698ae",
   "metadata": {},
   "outputs": [
    {
     "name": "stdout",
     "output_type": "stream",
     "text": [
      "46 Category\n",
      "8982 Train Set News Article\n",
      "2246 Test Set News Article\n",
      "[1, 2, 2, 8, 43, 10, 447, 5, 25, 207, 270, 5, 2, 111, 16, 369, 186, 90, 67, 7, 89, 5, 19, 102, 6, 19, 124, 15, 90, 67, 84, 22, 482, 26, 7, 48, 4, 49, 8, 864, 39, 209, 154, 6, 151, 6, 83, 11, 15, 22, 155, 11, 15, 7, 48, 9, 2, 2, 504, 6, 258, 6, 272, 11, 15, 22, 134, 44, 11, 15, 16, 8, 197, 2, 90, 67, 52, 29, 209, 30, 32, 132, 6, 109, 15, 17, 12]\n"
     ]
    }
   ],
   "source": [
    "# 데이터 확인하기\n",
    "category = np.max(Y_train) + 1\n",
    "print(category, 'Category')\n",
    "print(len(X_train), 'Train Set News Article')\n",
    "print(len(X_test), 'Test Set News Article')\n",
    "print(X_train[0]) # 3 => 세 번째로 빈도가 높은 단어"
   ]
  },
  {
   "cell_type": "code",
   "execution_count": 4,
   "id": "548fe254-333a-4cdf-905e-70fb4c231dd5",
   "metadata": {},
   "outputs": [],
   "source": [
    "# 데이터 전처리\n",
    "x_train = sequence.pad_sequences(X_train, maxlen=100)\n",
    "x_test = sequence.pad_sequences(X_test, maxlen=100)\n",
    "y_train = to_categorical(Y_train)\n",
    "y_test = to_categorical(Y_test)\n",
    "  \n",
    "# 단어 수가 제각각 다르므로 이를 동일하게 맞춰 => 데이터 전처리 함수 sequence()\n",
    "# maxlen=100은 단어 수를 100개로 맞추라 \n",
    "# (만일 입력된 기사의 단어 수가 100보다 크면 100개째 단어만 선택하고 나머지는 버립니다. \n",
    "# 100에서 모자랄 때는 모자라는 부분을 모두 0으로 채웁)"
   ]
  },
  {
   "cell_type": "code",
   "execution_count": 5,
   "id": "66a8f0ad-1d1e-4239-b209-c39701abd242",
   "metadata": {},
   "outputs": [
    {
     "name": "stdout",
     "output_type": "stream",
     "text": [
      "3\n"
     ]
    }
   ],
   "source": [
    "print(Y_train[0])"
   ]
  },
  {
   "cell_type": "code",
   "execution_count": 6,
   "id": "d29683a6-4a50-4434-8293-0113068e93ac",
   "metadata": {},
   "outputs": [],
   "source": [
    "# 모델의 설정\n",
    "model = Sequential()\n",
    "model.add(Embedding(1000, 100))\n",
    "model.add(LSTM(100, activation='tanh'))\n",
    "model.add(Dense(46, activation='softmax'))\n",
    "\n",
    "# NotImplementedError\n",
    "# conda uninstall numpy \n",
    "# conda install -c conda-forge numpy=1.19.5\n",
    "# conda install matplotlib\n",
    "# conda install tensorflow\n",
    "# conda install keras"
   ]
  },
  {
   "cell_type": "code",
   "execution_count": 7,
   "id": "4e2a12fb-b1ef-4180-bffe-73f90c7c8142",
   "metadata": {},
   "outputs": [
    {
     "name": "stdout",
     "output_type": "stream",
     "text": [
      "Model: \"sequential\"\n",
      "_________________________________________________________________\n",
      "Layer (type)                 Output Shape              Param #   \n",
      "=================================================================\n",
      "embedding (Embedding)        (None, None, 100)         100000    \n",
      "_________________________________________________________________\n",
      "lstm (LSTM)                  (None, 100)               80400     \n",
      "_________________________________________________________________\n",
      "dense (Dense)                (None, 46)                4646      \n",
      "=================================================================\n",
      "Total params: 185,046\n",
      "Trainable params: 185,046\n",
      "Non-trainable params: 0\n",
      "_________________________________________________________________\n"
     ]
    }
   ],
   "source": [
    "model.summary()"
   ]
  },
  {
   "cell_type": "code",
   "execution_count": null,
   "id": "8e121598-12fc-485f-be01-7ca3da333cb9",
   "metadata": {},
   "outputs": [],
   "source": [
    "# params = 4 * ((input_size + 1) * outputsize + outputsize^2)\n",
    "# 4 * ((100 + 1) * 100 + 100^2 ) = 80,400"
   ]
  },
  {
   "cell_type": "code",
   "execution_count": 8,
   "id": "773cd2bb-38c1-46ed-bb1c-65c393cf95e5",
   "metadata": {},
   "outputs": [],
   "source": [
    "# 모델의 컴파일\n",
    "model.compile(loss='categorical_crossentropy', optimizer='adam', metrics=['accuracy'])"
   ]
  },
  {
   "cell_type": "code",
   "execution_count": 9,
   "id": "3f436635-35fa-42a4-9007-05531cb65b7e",
   "metadata": {
    "tags": []
   },
   "outputs": [
    {
     "name": "stdout",
     "output_type": "stream",
     "text": [
      "Epoch 1/20\n",
      "90/90 [==============================] - 9s 99ms/step - loss: 2.5777 - accuracy: 0.3497 - val_loss: 2.1698 - val_accuracy: 0.4488\n",
      "Epoch 2/20\n",
      "90/90 [==============================] - 8s 93ms/step - loss: 2.0349 - accuracy: 0.4901 - val_loss: 1.9309 - val_accuracy: 0.5080\n",
      "Epoch 3/20\n",
      "90/90 [==============================] - 8s 93ms/step - loss: 1.8629 - accuracy: 0.5134 - val_loss: 1.7618 - val_accuracy: 0.5503\n",
      "Epoch 4/20\n",
      "90/90 [==============================] - 8s 92ms/step - loss: 1.7438 - accuracy: 0.5441 - val_loss: 1.7153 - val_accuracy: 0.5606\n",
      "Epoch 5/20\n",
      "90/90 [==============================] - 8s 93ms/step - loss: 1.6631 - accuracy: 0.5716 - val_loss: 1.6613 - val_accuracy: 0.5815\n",
      "Epoch 6/20\n",
      "90/90 [==============================] - 8s 94ms/step - loss: 1.6309 - accuracy: 0.5844 - val_loss: 1.6401 - val_accuracy: 0.6028\n",
      "Epoch 7/20\n",
      "90/90 [==============================] - 9s 95ms/step - loss: 1.5075 - accuracy: 0.6197 - val_loss: 1.5556 - val_accuracy: 0.6224\n",
      "Epoch 8/20\n",
      "90/90 [==============================] - 9s 95ms/step - loss: 1.3973 - accuracy: 0.6468 - val_loss: 1.5100 - val_accuracy: 0.6207\n",
      "Epoch 9/20\n",
      "90/90 [==============================] - 9s 95ms/step - loss: 1.3327 - accuracy: 0.6604 - val_loss: 1.5041 - val_accuracy: 0.6229\n",
      "Epoch 10/20\n",
      "90/90 [==============================] - 9s 96ms/step - loss: 1.2554 - accuracy: 0.6837 - val_loss: 1.3565 - val_accuracy: 0.6594\n",
      "Epoch 11/20\n",
      "90/90 [==============================] - 9s 96ms/step - loss: 1.1710 - accuracy: 0.7025 - val_loss: 1.3046 - val_accuracy: 0.6736\n",
      "Epoch 12/20\n",
      "90/90 [==============================] - 9s 96ms/step - loss: 1.1078 - accuracy: 0.7144 - val_loss: 1.2695 - val_accuracy: 0.6790\n",
      "Epoch 13/20\n",
      "90/90 [==============================] - 9s 96ms/step - loss: 1.0615 - accuracy: 0.7289 - val_loss: 1.2473 - val_accuracy: 0.6892\n",
      "Epoch 14/20\n",
      "90/90 [==============================] - 9s 96ms/step - loss: 1.0117 - accuracy: 0.7393 - val_loss: 1.2504 - val_accuracy: 0.6861\n",
      "Epoch 15/20\n",
      "90/90 [==============================] - 9s 96ms/step - loss: 0.9735 - accuracy: 0.7469 - val_loss: 1.2688 - val_accuracy: 0.6870\n",
      "Epoch 16/20\n",
      "90/90 [==============================] - 9s 95ms/step - loss: 0.9365 - accuracy: 0.7612 - val_loss: 1.2159 - val_accuracy: 0.7030\n",
      "Epoch 17/20\n",
      "90/90 [==============================] - 9s 98ms/step - loss: 0.8953 - accuracy: 0.7725 - val_loss: 1.2406 - val_accuracy: 0.6986\n",
      "Epoch 18/20\n",
      "90/90 [==============================] - 9s 96ms/step - loss: 0.8574 - accuracy: 0.7840 - val_loss: 1.1905 - val_accuracy: 0.7150\n",
      "Epoch 19/20\n",
      "90/90 [==============================] - 9s 97ms/step - loss: 0.8249 - accuracy: 0.7928 - val_loss: 1.2379 - val_accuracy: 0.7048\n",
      "Epoch 20/20\n",
      "90/90 [==============================] - 9s 96ms/step - loss: 0.7911 - accuracy: 0.8013 - val_loss: 1.2222 - val_accuracy: 0.7128\n"
     ]
    }
   ],
   "source": [
    "# 모델의 실행\n",
    "history = model.fit(x_train, y_train, batch_size=100, epochs=20, validation_data=(x_test, y_test))"
   ]
  },
  {
   "cell_type": "code",
   "execution_count": 11,
   "id": "4ff13bc0-b7aa-490b-8e5a-f329eb5e258a",
   "metadata": {},
   "outputs": [
    {
     "name": "stdout",
     "output_type": "stream",
     "text": [
      "71/71 [==============================] - 1s 16ms/step - loss: 1.2222 - accuracy: 0.7128\n",
      "\n",
      " Test Accuracy: 0.7128\n"
     ]
    }
   ],
   "source": [
    "# 테스트 정확도 출력\n",
    "print(\"\\n Test Accuracy: %.4f\" % (model.evaluate(x_test, y_test)[1]))"
   ]
  },
  {
   "cell_type": "code",
   "execution_count": 13,
   "id": "038056c2-4924-4d92-b3ee-ee85ab4cf563",
   "metadata": {},
   "outputs": [
    {
     "data": {
      "text/plain": [
       "[<matplotlib.lines.Line2D at 0x251805fe308>]"
      ]
     },
     "execution_count": 13,
     "metadata": {},
     "output_type": "execute_result"
    }
   ],
   "source": [
    "# 테스트셋의 오차\n",
    "y_vloss = history.history['val_loss']\n",
    "  \n",
    "# 학습셋의 오차\n",
    "y_loss = history.history['loss']\n",
    "  \n",
    "# 그래프로 표현\n",
    "x_len = np.arange(len(y_loss))\n",
    "plt.plot(x_len, y_vloss, marker='.', c=\"red\", label='Testset_loss')\n",
    "plt.plot(x_len, y_loss, marker='.', c=\"blue\", label='Trainset_loss')"
   ]
  },
  {
   "cell_type": "code",
   "execution_count": 14,
   "id": "b1717e32-f80e-4891-b52e-0bbd24b01f5b",
   "metadata": {},
   "outputs": [
    {
     "data": {
      "image/png": "[encoded data removed]",
      "text/plain": [
       "<Figure size 640x480 with 1 Axes>"
      ]
     },
     "metadata": {},
     "output_type": "display_data"
    },
    {
     "name": "stderr",
     "output_type": "stream",
     "text": [
      "C:\\Users\\asus\\anaconda3\\envs\\django3\\lib\\site-packages\\tensorflow\\python\\keras\\datasets\\reuters.py:148: VisibleDeprecationWarning: Creating an ndarray from ragged nested sequences (which is a list-or-tuple of lists-or-tuples-or ndarrays with different lengths or shapes) is deprecated. If you meant to do this, you must specify 'dtype=object' when creating the ndarray\n",
      "  x_train, y_train = np.array(xs[:idx]), np.array(labels[:idx])\n",
      "C:\\Users\\asus\\anaconda3\\envs\\django3\\lib\\site-packages\\tensorflow\\python\\keras\\datasets\\reuters.py:149: VisibleDeprecationWarning: Creating an ndarray from ragged nested sequences (which is a list-or-tuple of lists-or-tuples-or ndarrays with different lengths or shapes) is deprecated. If you meant to do this, you must specify 'dtype=object' when creating the ndarray\n",
      "  x_test, y_test = np.array(xs[idx:]), np.array(labels[idx:])\n"
     ]
    }
   ],
   "source": [
    "# 그래프에 그리드를 추가하고 레이블을 표시\n",
    "plt.legend(loc='upper right')\n",
    "plt.grid()\n",
    "plt.xlabel('epoch')\n",
    "plt.ylabel('loss')\n",
    "plt.show()# 불러온 데이터를 학습셋과 테스트셋으로 나누기\n",
    "(X_train, Y_train), (X_test, Y_test) = reuters.load_data(num_words=1000, test_split=0.2)"
   ]
  },
  {
   "cell_type": "code",
   "execution_count": null,
   "id": "491d5010-69f0-4ebf-b67f-947bd26e21fb",
   "metadata": {},
   "outputs": [],
   "source": []
  },
  {
   "cell_type": "code",
   "execution_count": 15,
   "id": "b90a9d5b-3ec6-4078-a3c6-14621565fcee",
   "metadata": {},
   "outputs": [
    {
     "ename": "NameError",
     "evalue": "name 'imdb' is not defined",
     "output_type": "error",
     "traceback": [
      "\u001b[1;31m---------------------------------------------------------------------------\u001b[0m",
      "\u001b[1;31mNameError\u001b[0m                                 Traceback (most recent call last)",
      "\u001b[1;32m<ipython-input-15-df6d0297c188>\u001b[0m in \u001b[0;36m<module>\u001b[1;34m\u001b[0m\n\u001b[0;32m      1\u001b[0m \u001b[1;31m# 학습셋과 테스트셋 지정하기\u001b[0m\u001b[1;33m\u001b[0m\u001b[1;33m\u001b[0m\u001b[1;33m\u001b[0m\u001b[0m\n\u001b[1;32m----> 2\u001b[1;33m \u001b[1;33m(\u001b[0m\u001b[0mx_train\u001b[0m\u001b[1;33m,\u001b[0m \u001b[0my_train\u001b[0m\u001b[1;33m)\u001b[0m\u001b[1;33m,\u001b[0m \u001b[1;33m(\u001b[0m\u001b[0mx_test\u001b[0m\u001b[1;33m,\u001b[0m \u001b[0my_test\u001b[0m\u001b[1;33m)\u001b[0m \u001b[1;33m=\u001b[0m \u001b[0mimdb\u001b[0m\u001b[1;33m.\u001b[0m\u001b[0mload_data\u001b[0m\u001b[1;33m(\u001b[0m\u001b[0mnum_words\u001b[0m\u001b[1;33m=\u001b[0m\u001b[1;36m5000\u001b[0m\u001b[1;33m)\u001b[0m\u001b[1;33m\u001b[0m\u001b[1;33m\u001b[0m\u001b[0m\n\u001b[0m\u001b[0;32m      3\u001b[0m \u001b[1;33m\u001b[0m\u001b[0m\n\u001b[0;32m      4\u001b[0m \u001b[1;31m# 데이터 전처리\u001b[0m\u001b[1;33m\u001b[0m\u001b[1;33m\u001b[0m\u001b[1;33m\u001b[0m\u001b[0m\n\u001b[0;32m      5\u001b[0m \u001b[0mx_train\u001b[0m \u001b[1;33m=\u001b[0m \u001b[0msequence\u001b[0m\u001b[1;33m.\u001b[0m\u001b[0mpad_sequences\u001b[0m\u001b[1;33m(\u001b[0m\u001b[0mx_train\u001b[0m\u001b[1;33m,\u001b[0m \u001b[0mmaxlen\u001b[0m\u001b[1;33m=\u001b[0m\u001b[1;36m100\u001b[0m\u001b[1;33m)\u001b[0m\u001b[1;33m\u001b[0m\u001b[1;33m\u001b[0m\u001b[0m\n",
      "\u001b[1;31mNameError\u001b[0m: name 'imdb' is not defined"
     ]
    }
   ],
   "source": []
  },
  {
   "cell_type": "code",
   "execution_count": null,
   "id": "aae46dcf-aa20-4c3c-90db-1435e4a1a4b1",
   "metadata": {},
   "outputs": [],
   "source": []
  },
  {
   "cell_type": "code",
   "execution_count": null,
   "id": "4267a18f-381c-45f8-b5af-2fe78e09b3e3",
   "metadata": {},
   "outputs": [],
   "source": []
  },
  {
   "cell_type": "code",
   "execution_count": null,
   "id": "141927e9-f30d-41f2-884e-811547d52960",
   "metadata": {},
   "outputs": [],
   "source": []
  },
  {
   "cell_type": "code",
   "execution_count": null,
   "id": "9f9ee4a0-06d8-4107-8a63-e0052a6cfebb",
   "metadata": {},
   "outputs": [],
   "source": []
  },
  {
   "cell_type": "code",
   "execution_count": null,
   "id": "0369f3f8-eba5-43b6-9301-9f2fbd501d5f",
   "metadata": {},
   "outputs": [],
   "source": []
  },
  {
   "cell_type": "code",
   "execution_count": null,
   "id": "a24aff47-f2d7-4590-874e-ae2d7da2ab24",
   "metadata": {},
   "outputs": [],
   "source": []
  },
  {
   "cell_type": "code",
   "execution_count": null,
   "id": "4b4b311f-5366-43bf-a8b8-6f7c3cfe9f66",
   "metadata": {},
   "outputs": [],
   "source": []
  }
 ],
 "metadata": {
  "kernelspec": {
   "display_name": "Python 3",
   "language": "python",
   "name": "python3"
  },
  "language_info": {
   "codemirror_mode": {
    "name": "ipython",
    "version": 3
   },
   "file_extension": ".py",
   "mimetype": "text/x-python",
   "name": "python",
   "nbconvert_exporter": "python",
   "pygments_lexer": "ipython3",
   "version": "3.7.10"
  }
 },
 "nbformat": 4,
 "nbformat_minor": 5
}
