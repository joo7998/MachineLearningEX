{
 "cells": [
  {
   "cell_type": "markdown",
   "id": "4d7a92db-29dc-4c95-b606-ac8f16781539",
   "metadata": {},
   "source": [
    "# AutoEncoder = 세상에 존재, \n",
    "- 영상 의학 분야 등 아직 데이터 수가 충분하지 않은 분야에서 사용\n",
    "- 부족한 학습 데이터 수를 효과적으로 늘려주는 효과\n",
    "- encoder & decoder\n",
    "\n",
    "- GAN = 세상에 존재 X"
   ]
  },
  {
   "cell_type": "code",
   "execution_count": 1,
   "id": "3ccb52cc-cd1c-45a5-879a-9ae88916973c",
   "metadata": {},
   "outputs": [],
   "source": [
    "from tensorflow.keras.datasets import mnist\n",
    "from tensorflow.keras.models import Sequential, Model\n",
    "from tensorflow.keras.layers import Input, Dense, Conv2D, MaxPooling2D, UpSampling2D, Flatten, Reshape\n",
    "import matplotlib.pyplot as plt\n",
    "import numpy as np\n",
    "import tensorflow as tf"
   ]
  },
  {
   "cell_type": "code",
   "execution_count": 2,
   "id": "489ea581-fe24-4808-a15d-05e728464a74",
   "metadata": {},
   "outputs": [
    {
     "name": "stdout",
     "output_type": "stream",
     "text": [
      "1 Physical GPUs, 1 Logical GPUs\n"
     ]
    }
   ],
   "source": [
    "gpus = tf.config.experimental.list_physical_devices('GPU')\n",
    "if gpus:\n",
    "    try:\n",
    "        # Currently, memory growth needs to be the same across GPUs\n",
    "        for gpu in gpus:\n",
    "            tf.config.experimental.set_memory_growth(gpu, True)\n",
    "        logical_gpus = tf.config.experimental.list_logical_devices('GPU')\n",
    "        print(len(gpus), \"Physical GPUs,\", len(logical_gpus), \"Logical GPUs\")\n",
    "    except RuntimeError as e:\n",
    "        # Memory growth must be set before GPUs have been initialized\n",
    "        print(e)"
   ]
  },
  {
   "cell_type": "code",
   "execution_count": 3,
   "id": "a0a3ee3e-9c4d-4f60-9748-751a7253de8b",
   "metadata": {},
   "outputs": [],
   "source": [
    "# MNIST 데이터 셋을 호출\n",
    "(X_train, _), (X_test, _) = mnist.load_data()\n",
    "X_train = X_train.reshape(X_train.shape[0], 28, 28, 1).astype('float32') / 255\n",
    "X_test = X_test.reshape(X_test.shape[0], 28, 28, 1).astype('float32') / 255"
   ]
  },
  {
   "cell_type": "code",
   "execution_count": 4,
   "id": "80d39408-b5ea-4f95-b3c2-99769a7ce102",
   "metadata": {},
   "outputs": [],
   "source": [
    "# 생성자 모델 만들기\n",
    "autoencoder = Sequential()"
   ]
  },
  {
   "cell_type": "code",
   "execution_count": 5,
   "id": "c75fe39c-2c64-4b36-9713-79dbd3693149",
   "metadata": {},
   "outputs": [],
   "source": [
    "# 인코딩 부분 (입력된 값의 차원을 축소)\n",
    "autoencoder.add(Conv2D(16, kernel_size=3, padding='same', input_shape=(28,28,1), activation='relu'))\n",
    "autoencoder.add(MaxPooling2D(pool_size=2, padding='same')) \n",
    "# 입력 크기를 줄이는 방법 (MaxPooling)\n",
    "autoencoder.add(Conv2D(8, kernel_size=3, activation='relu', padding='same'))\n",
    "autoencoder.add(MaxPooling2D(pool_size=2, padding='same'))\n",
    "# 입력 크기를 줄이는 방법\n",
    "autoencoder.add(Conv2D(8, kernel_size=3, strides=2, padding='same', activation='relu'))"
   ]
  },
  {
   "cell_type": "code",
   "execution_count": 6,
   "id": "927d27a2-f9cc-46e4-9be6-f37bf879fa77",
   "metadata": {},
   "outputs": [],
   "source": [
    "# 디코딩 부분(다시 차원을 점차 늘려 입력 값과 똑같은 크기의 출력 값을 내보내)\n",
    "autoencoder.add(Conv2D(8, kernel_size=3, padding='same', activation='relu'))\n",
    "autoencoder.add(UpSampling2D())\n",
    "# 크기를 늘리기\n",
    "autoencoder.add(Conv2D(8, kernel_size=3, padding='same', activation='relu'))\n",
    "autoencoder.add(UpSampling2D())\n",
    "# 크기를 늘리기\n",
    "autoencoder.add(Conv2D(16, kernel_size=3, activation='relu')) \n",
    "# padding(크기유지) X => 3X3 mask 적용 크기 줄어듬(vector 2차원으로) => 3rd UpSampling\n",
    "# \n",
    "autoencoder.add(UpSampling2D())\n",
    "# 크기를 늘리기\n",
    "autoencoder.add(Conv2D(1, kernel_size=3, padding='same', activation='sigmoid'))\n",
    "  "
   ]
  },
  {
   "cell_type": "code",
   "execution_count": 7,
   "id": "82d8a16e-28d8-4e4e-ab94-59ffda9e8d46",
   "metadata": {},
   "outputs": [
    {
     "name": "stdout",
     "output_type": "stream",
     "text": [
      "Model: \"sequential\"\n",
      "_________________________________________________________________\n",
      "Layer (type)                 Output Shape              Param #   \n",
      "=================================================================\n",
      "conv2d (Conv2D)              (None, 28, 28, 16)        160       \n",
      "_________________________________________________________________\n",
      "max_pooling2d (MaxPooling2D) (None, 14, 14, 16)        0         \n",
      "_________________________________________________________________\n",
      "conv2d_1 (Conv2D)            (None, 14, 14, 8)         1160      \n",
      "_________________________________________________________________\n",
      "max_pooling2d_1 (MaxPooling2 (None, 7, 7, 8)           0         \n",
      "_________________________________________________________________\n",
      "conv2d_2 (Conv2D)            (None, 4, 4, 8)           584       \n",
      "_________________________________________________________________\n",
      "conv2d_3 (Conv2D)            (None, 4, 4, 8)           584       \n",
      "_________________________________________________________________\n",
      "up_sampling2d (UpSampling2D) (None, 8, 8, 8)           0         \n",
      "_________________________________________________________________\n",
      "conv2d_4 (Conv2D)            (None, 8, 8, 8)           584       \n",
      "_________________________________________________________________\n",
      "up_sampling2d_1 (UpSampling2 (None, 16, 16, 8)         0         \n",
      "_________________________________________________________________\n",
      "conv2d_5 (Conv2D)            (None, 14, 14, 16)        1168      \n",
      "_________________________________________________________________\n",
      "up_sampling2d_2 (UpSampling2 (None, 28, 28, 16)        0         \n",
      "_________________________________________________________________\n",
      "conv2d_6 (Conv2D)            (None, 28, 28, 1)         145       \n",
      "=================================================================\n",
      "Total params: 4,385\n",
      "Trainable params: 4,385\n",
      "Non-trainable params: 0\n",
      "_________________________________________________________________\n"
     ]
    }
   ],
   "source": [
    "# 전체 구조 확인\n",
    "autoencoder.summary()"
   ]
  },
  {
   "cell_type": "code",
   "execution_count": 8,
   "id": "c2cecaa5-44bb-47c9-b4c5-67a5a2453d4b",
   "metadata": {},
   "outputs": [],
   "source": [
    "autoencoder.compile(optimizer='adam', loss='binary_crossentropy')"
   ]
  },
  {
   "cell_type": "code",
   "execution_count": 9,
   "id": "f74e3e6a-5f9e-4815-b345-a8e8e40cfeeb",
   "metadata": {},
   "outputs": [
    {
     "name": "stdout",
     "output_type": "stream",
     "text": [
      "Train on 60000 samples, validate on 10000 samples\n",
      "Epoch 1/50\n",
      "60000/60000 [==============================] - 5s 86us/sample - loss: 0.2073 - val_loss: 0.1333\n",
      "Epoch 2/50\n",
      "60000/60000 [==============================] - 3s 45us/sample - loss: 0.1237 - val_loss: 0.1150\n",
      "Epoch 3/50\n",
      "60000/60000 [==============================] - 3s 45us/sample - loss: 0.1122 - val_loss: 0.1076\n",
      "Epoch 4/50\n",
      "60000/60000 [==============================] - 3s 45us/sample - loss: 0.1065 - val_loss: 0.1032\n",
      "Epoch 5/50\n",
      "60000/60000 [==============================] - 3s 45us/sample - loss: 0.1028 - val_loss: 0.1001\n",
      "Epoch 6/50\n",
      "60000/60000 [==============================] - 3s 45us/sample - loss: 0.1001 - val_loss: 0.0980\n",
      "Epoch 7/50\n",
      "60000/60000 [==============================] - 3s 45us/sample - loss: 0.0981 - val_loss: 0.0968\n",
      "Epoch 8/50\n",
      "60000/60000 [==============================] - 3s 45us/sample - loss: 0.0966 - val_loss: 0.0945\n",
      "Epoch 9/50\n",
      "60000/60000 [==============================] - 3s 45us/sample - loss: 0.0952 - val_loss: 0.0933\n",
      "Epoch 10/50\n",
      "60000/60000 [==============================] - 3s 45us/sample - loss: 0.0941 - val_loss: 0.0924\n",
      "Epoch 11/50\n",
      "60000/60000 [==============================] - 3s 46us/sample - loss: 0.0931 - val_loss: 0.0917\n",
      "Epoch 12/50\n",
      "60000/60000 [==============================] - 3s 46us/sample - loss: 0.0923 - val_loss: 0.0910\n",
      "Epoch 13/50\n",
      "60000/60000 [==============================] - 3s 46us/sample - loss: 0.0916 - val_loss: 0.0900\n",
      "Epoch 14/50\n",
      "60000/60000 [==============================] - 3s 46us/sample - loss: 0.0909 - val_loss: 0.0896\n",
      "Epoch 15/50\n",
      "60000/60000 [==============================] - 3s 46us/sample - loss: 0.0904 - val_loss: 0.0895\n",
      "Epoch 16/50\n",
      "60000/60000 [==============================] - 3s 46us/sample - loss: 0.0899 - val_loss: 0.0884\n",
      "Epoch 17/50\n",
      "60000/60000 [==============================] - 3s 46us/sample - loss: 0.0894 - val_loss: 0.0883\n",
      "Epoch 18/50\n",
      "60000/60000 [==============================] - 3s 46us/sample - loss: 0.0890 - val_loss: 0.0876\n",
      "Epoch 19/50\n",
      "60000/60000 [==============================] - 3s 45us/sample - loss: 0.0885 - val_loss: 0.0872\n",
      "Epoch 20/50\n",
      "60000/60000 [==============================] - 3s 45us/sample - loss: 0.0882 - val_loss: 0.0868\n",
      "Epoch 21/50\n",
      "60000/60000 [==============================] - 3s 45us/sample - loss: 0.0879 - val_loss: 0.0866\n",
      "Epoch 22/50\n",
      "60000/60000 [==============================] - 3s 46us/sample - loss: 0.0876 - val_loss: 0.0866\n",
      "Epoch 23/50\n",
      "60000/60000 [==============================] - 3s 46us/sample - loss: 0.0873 - val_loss: 0.0863\n",
      "Epoch 24/50\n",
      "60000/60000 [==============================] - 3s 45us/sample - loss: 0.0870 - val_loss: 0.0859\n",
      "Epoch 25/50\n",
      "60000/60000 [==============================] - 3s 46us/sample - loss: 0.0868 - val_loss: 0.0858\n",
      "Epoch 26/50\n",
      "60000/60000 [==============================] - 3s 45us/sample - loss: 0.0866 - val_loss: 0.0856\n",
      "Epoch 27/50\n",
      "60000/60000 [==============================] - 3s 45us/sample - loss: 0.0864 - val_loss: 0.0853\n",
      "Epoch 28/50\n",
      "60000/60000 [==============================] - 3s 46us/sample - loss: 0.0862 - val_loss: 0.0851\n",
      "Epoch 29/50\n",
      "60000/60000 [==============================] - 3s 45us/sample - loss: 0.0860 - val_loss: 0.0852\n",
      "Epoch 30/50\n",
      "60000/60000 [==============================] - 3s 45us/sample - loss: 0.0859 - val_loss: 0.0848\n",
      "Epoch 31/50\n",
      "60000/60000 [==============================] - 3s 45us/sample - loss: 0.0857 - val_loss: 0.0847\n",
      "Epoch 32/50\n",
      "60000/60000 [==============================] - 3s 44us/sample - loss: 0.0856 - val_loss: 0.0845\n",
      "Epoch 33/50\n",
      "60000/60000 [==============================] - 3s 45us/sample - loss: 0.0854 - val_loss: 0.0843\n",
      "Epoch 34/50\n",
      "60000/60000 [==============================] - 3s 46us/sample - loss: 0.0853 - val_loss: 0.0842\n",
      "Epoch 35/50\n",
      "60000/60000 [==============================] - 3s 45us/sample - loss: 0.0852 - val_loss: 0.0841\n",
      "Epoch 36/50\n",
      "60000/60000 [==============================] - 3s 45us/sample - loss: 0.0851 - val_loss: 0.0842\n",
      "Epoch 37/50\n",
      "60000/60000 [==============================] - 3s 44us/sample - loss: 0.0850 - val_loss: 0.0839\n",
      "Epoch 38/50\n",
      "60000/60000 [==============================] - 3s 45us/sample - loss: 0.0848 - val_loss: 0.0846\n",
      "Epoch 39/50\n",
      "60000/60000 [==============================] - 3s 45us/sample - loss: 0.0848 - val_loss: 0.0836\n",
      "Epoch 40/50\n",
      "60000/60000 [==============================] - 3s 45us/sample - loss: 0.0847 - val_loss: 0.0836\n",
      "Epoch 41/50\n",
      "60000/60000 [==============================] - 3s 45us/sample - loss: 0.0846 - val_loss: 0.0835\n",
      "Epoch 42/50\n",
      "60000/60000 [==============================] - 3s 46us/sample - loss: 0.0845 - val_loss: 0.0833\n",
      "Epoch 43/50\n",
      "60000/60000 [==============================] - 3s 46us/sample - loss: 0.0844 - val_loss: 0.0835\n",
      "Epoch 44/50\n",
      "60000/60000 [==============================] - 3s 46us/sample - loss: 0.0843 - val_loss: 0.0838\n",
      "Epoch 45/50\n",
      "60000/60000 [==============================] - 3s 45us/sample - loss: 0.0842 - val_loss: 0.0833\n",
      "Epoch 46/50\n",
      "60000/60000 [==============================] - 3s 46us/sample - loss: 0.0842 - val_loss: 0.0834\n",
      "Epoch 47/50\n",
      "60000/60000 [==============================] - 3s 45us/sample - loss: 0.0841 - val_loss: 0.0831\n",
      "Epoch 48/50\n",
      "60000/60000 [==============================] - 3s 46us/sample - loss: 0.0840 - val_loss: 0.0833\n",
      "Epoch 49/50\n",
      "60000/60000 [==============================] - 3s 45us/sample - loss: 0.0839 - val_loss: 0.0828\n",
      "Epoch 50/50\n",
      "60000/60000 [==============================] - 3s 46us/sample - loss: 0.0839 - val_loss: 0.0828\n"
     ]
    },
    {
     "data": {
      "text/plain": [
       "<tensorflow.python.keras.callbacks.History at 0x1b60036e9c8>"
      ]
     },
     "execution_count": 9,
     "metadata": {},
     "output_type": "execute_result"
    }
   ],
   "source": [
    "autoencoder.fit(X_train, X_train, epochs=50, batch_size=128, validation_data=(X_test, X_test))\n",
    "\n",
    "# Python 3.6.4, Keras 2.3.1, Tensorflow 2.0 로 맞춰주기"
   ]
  },
  {
   "cell_type": "code",
   "execution_count": 10,
   "id": "da2a534b-5923-4787-a0bb-cbb39b644a95",
   "metadata": {},
   "outputs": [
    {
     "data": {
      "image/png": "[encoded data removed]",
      "text/plain": [
       "<Figure size 504x144 with 10 Axes>"
      ]
     },
     "metadata": {
      "needs_background": "light"
     },
     "output_type": "display_data"
    }
   ],
   "source": [
    "# 학습된 결과를 출력하는 부분\n",
    "random_test = np.random.randint(X_test.shape[0], size=5)  \n",
    "# 테스트할 이미지를 랜덤으로 호출\n",
    "ae_imgs = autoencoder.predict(X_test)  # 앞서 만든 오토인코더 모델에 넣기\n",
    " \n",
    "plt.figure(figsize=(7, 2))  # 출력 이미지 크기 정하기\n",
    " \n",
    "for i, image_idx in enumerate(random_test):    \n",
    "   # 랜덤으로 뽑은 이미지를 차례로 나열\n",
    "   ax = plt.subplot(2, 7, i + 1)\n",
    "   # 테스트할 이미지를 먼저 그대로 보여줌\n",
    "   plt.imshow(X_test[image_idx].reshape(28, 28))  \n",
    "   ax.axis('off')\n",
    "   ax = plt.subplot(2, 7, 7 + i +1)\n",
    "   # 오토인코딩 결과를 다음 열에 입력\n",
    "   plt.imshow(ae_imgs[image_idx].reshape(28, 28))  \n",
    "   ax.axis('off')\n",
    "plt.show() \n"
   ]
  },
  {
   "cell_type": "code",
   "execution_count": null,
   "id": "65b823f2-2a8c-448b-9091-282842433de9",
   "metadata": {},
   "outputs": [],
   "source": []
  },
  {
   "cell_type": "code",
   "execution_count": null,
   "id": "0b242b9d-fb77-4037-814a-c4e81470307a",
   "metadata": {},
   "outputs": [],
   "source": []
  }
 ],
 "metadata": {
  "kernelspec": {
   "display_name": "tensorflow2.1.0",
   "language": "python",
   "name": "tensorflow"
  },
  "language_info": {
   "codemirror_mode": {
    "name": "ipython",
    "version": 3
   },
   "file_extension": ".py",
   "mimetype": "text/x-python",
   "name": "python",
   "nbconvert_exporter": "python",
   "pygments_lexer": "ipython3",
   "version": "3.7.10"
  }
 },
 "nbformat": 4,
 "nbformat_minor": 5
}
