{
 "cells": [
  {
   "cell_type": "markdown",
   "id": "4d7a92db-29dc-4c95-b606-ac8f16781539",
   "metadata": {},
   "source": [
    "# AutoEncoder = 세상에 존재, \n",
    "- 영상 의학 분야 등 아직 데이터 수가 충분하지 않은 분야에서 사용\n",
    "- 부족한 학습 데이터 수를 효과적으로 늘려주는 효과\n",
    "- encoder & decoder\n",
    "\n",
    "- GAN = 세상에 존재 X"
   ]
  },
  {
   "cell_type": "code",
   "execution_count": 2,
   "id": "3ccb52cc-cd1c-45a5-879a-9ae88916973c",
   "metadata": {},
   "outputs": [],
   "source": [
    "from tensorflow.keras.datasets import mnist\n",
    "from tensorflow.keras.models import Sequential, Model\n",
    "from tensorflow.keras.layers import Input, Dense, Conv2D, MaxPooling2D, UpSampling2D, Flatten, Reshape\n",
    "import matplotlib.pyplot as plt\n",
    "import numpy as np"
   ]
  },
  {
   "cell_type": "code",
   "execution_count": 3,
   "id": "a0a3ee3e-9c4d-4f60-9748-751a7253de8b",
   "metadata": {},
   "outputs": [],
   "source": [
    "# MNIST 데이터 셋을 호출\n",
    "(X_train, _), (X_test, _) = mnist.load_data()\n",
    "X_train = X_train.reshape(X_train.shape[0], 28, 28, 1).astype('float32') / 255\n",
    "X_test = X_test.reshape(X_test.shape[0], 28, 28, 1).astype('float32') / 255"
   ]
  },
  {
   "cell_type": "code",
   "execution_count": 4,
   "id": "80d39408-b5ea-4f95-b3c2-99769a7ce102",
   "metadata": {},
   "outputs": [],
   "source": [
    "# 생성자 모델 만들기\n",
    "autoencoder = Sequential()"
   ]
  },
  {
   "cell_type": "code",
   "execution_count": 5,
   "id": "c75fe39c-2c64-4b36-9713-79dbd3693149",
   "metadata": {},
   "outputs": [],
   "source": [
    "# 인코딩 부분 (입력된 값의 차원을 축소)\n",
    "autoencoder.add(Conv2D(16, kernel_size=3, padding='same', input_shape=(28,28,1), activation='relu'))\n",
    "autoencoder.add(MaxPooling2D(pool_size=2, padding='same')) \n",
    "# 입력 크기를 줄이는 방법 (MaxPooling)\n",
    "autoencoder.add(Conv2D(8, kernel_size=3, activation='relu', padding='same'))\n",
    "autoencoder.add(MaxPooling2D(pool_size=2, padding='same'))\n",
    "# 입력 크기를 줄이는 방법\n",
    "autoencoder.add(Conv2D(8, kernel_size=3, strides=2, padding='same', activation='relu'))"
   ]
  },
  {
   "cell_type": "code",
   "execution_count": 6,
   "id": "927d27a2-f9cc-46e4-9be6-f37bf879fa77",
   "metadata": {},
   "outputs": [],
   "source": [
    "# 디코딩 부분(다시 차원을 점차 늘려 입력 값과 똑같은 크기의 출력 값을 내보내)\n",
    "autoencoder.add(Conv2D(8, kernel_size=3, padding='same', activation='relu'))\n",
    "autoencoder.add(UpSampling2D())\n",
    "# 크기를 늘리기\n",
    "autoencoder.add(Conv2D(8, kernel_size=3, padding='same', activation='relu'))\n",
    "autoencoder.add(UpSampling2D())\n",
    "# 크기를 늘리기\n",
    "autoencoder.add(Conv2D(16, kernel_size=3, activation='relu')) \n",
    "# padding(크기유지) X => 3X3 mask 적용 크기 줄어듬(vector 2차원으로) => 3rd UpSampling\n",
    "# \n",
    "autoencoder.add(UpSampling2D())\n",
    "# 크기를 늘리기\n",
    "autoencoder.add(Conv2D(1, kernel_size=3, padding='same', activation='sigmoid'))\n",
    "  "
   ]
  },
  {
   "cell_type": "code",
   "execution_count": 7,
   "id": "82d8a16e-28d8-4e4e-ab94-59ffda9e8d46",
   "metadata": {},
   "outputs": [
    {
     "name": "stdout",
     "output_type": "stream",
     "text": [
      "Model: \"sequential\"\n",
      "_________________________________________________________________\n",
      "Layer (type)                 Output Shape              Param #   \n",
      "=================================================================\n",
      "conv2d (Conv2D)              (None, 28, 28, 16)        160       \n",
      "_________________________________________________________________\n",
      "max_pooling2d (MaxPooling2D) (None, 14, 14, 16)        0         \n",
      "_________________________________________________________________\n",
      "conv2d_1 (Conv2D)            (None, 14, 14, 8)         1160      \n",
      "_________________________________________________________________\n",
      "max_pooling2d_1 (MaxPooling2 (None, 7, 7, 8)           0         \n",
      "_________________________________________________________________\n",
      "conv2d_2 (Conv2D)            (None, 4, 4, 8)           584       \n",
      "_________________________________________________________________\n",
      "conv2d_3 (Conv2D)            (None, 4, 4, 8)           584       \n",
      "_________________________________________________________________\n",
      "up_sampling2d (UpSampling2D) (None, 8, 8, 8)           0         \n",
      "_________________________________________________________________\n",
      "conv2d_4 (Conv2D)            (None, 8, 8, 8)           584       \n",
      "_________________________________________________________________\n",
      "up_sampling2d_1 (UpSampling2 (None, 16, 16, 8)         0         \n",
      "_________________________________________________________________\n",
      "conv2d_5 (Conv2D)            (None, 14, 14, 16)        1168      \n",
      "_________________________________________________________________\n",
      "up_sampling2d_2 (UpSampling2 (None, 28, 28, 16)        0         \n",
      "_________________________________________________________________\n",
      "conv2d_6 (Conv2D)            (None, 28, 28, 1)         145       \n",
      "=================================================================\n",
      "Total params: 4,385\n",
      "Trainable params: 4,385\n",
      "Non-trainable params: 0\n",
      "_________________________________________________________________\n"
     ]
    }
   ],
   "source": [
    "# 전체 구조 확인\n",
    "autoencoder.summary()"
   ]
  },
  {
   "cell_type": "code",
   "execution_count": 8,
   "id": "c2cecaa5-44bb-47c9-b4c5-67a5a2453d4b",
   "metadata": {},
   "outputs": [],
   "source": [
    "autoencoder.compile(optimizer='adam', loss='binary_crossentropy')"
   ]
  },
  {
   "cell_type": "code",
   "execution_count": 9,
   "id": "f74e3e6a-5f9e-4815-b345-a8e8e40cfeeb",
   "metadata": {},
   "outputs": [
    {
     "name": "stdout",
     "output_type": "stream",
     "text": [
      "Train on 60000 samples, validate on 10000 samples\n",
      "Epoch 1/50\n",
      "WARNING:tensorflow:Entity <function Function._initialize_uninitialized_variables.<locals>.initialize_variables at 0x000001EFDEA03E58> could not be transformed and will be executed as-is. Please report this to the AutoGraph team. When filing the bug, set the verbosity to 10 (on Linux, `export AUTOGRAPH_VERBOSITY=10`) and attach the full output. Cause: No module named 'tensorflow_core.estimator'\n",
      "WARNING: Entity <function Function._initialize_uninitialized_variables.<locals>.initialize_variables at 0x000001EFDEA03E58> could not be transformed and will be executed as-is. Please report this to the AutoGraph team. When filing the bug, set the verbosity to 10 (on Linux, `export AUTOGRAPH_VERBOSITY=10`) and attach the full output. Cause: No module named 'tensorflow_core.estimator'\n",
      "60000/60000 [==============================] - 50s 830us/sample - loss: 0.2132 - val_loss: 0.1365\n",
      "Epoch 2/50\n",
      "60000/60000 [==============================] - 48s 806us/sample - loss: 0.1257 - val_loss: 0.1163\n",
      "Epoch 3/50\n",
      "60000/60000 [==============================] - 49s 816us/sample - loss: 0.1134 - val_loss: 0.1093\n",
      "Epoch 4/50\n",
      "60000/60000 [==============================] - 48s 807us/sample - loss: 0.1078 - val_loss: 0.1042\n",
      "Epoch 5/50\n",
      "60000/60000 [==============================] - 48s 797us/sample - loss: 0.1037 - val_loss: 0.1009\n",
      "Epoch 6/50\n",
      "60000/60000 [==============================] - 48s 795us/sample - loss: 0.1005 - val_loss: 0.0981\n",
      "Epoch 7/50\n",
      "60000/60000 [==============================] - 48s 799us/sample - loss: 0.0982 - val_loss: 0.0960\n",
      "Epoch 8/50\n",
      "60000/60000 [==============================] - 48s 795us/sample - loss: 0.0963 - val_loss: 0.0943\n",
      "Epoch 9/50\n",
      "60000/60000 [==============================] - 48s 794us/sample - loss: 0.0947 - val_loss: 0.0929\n",
      "Epoch 10/50\n",
      "60000/60000 [==============================] - 48s 793us/sample - loss: 0.0935 - val_loss: 0.0918\n",
      "Epoch 11/50\n",
      "60000/60000 [==============================] - 48s 793us/sample - loss: 0.0925 - val_loss: 0.0908\n",
      "Epoch 12/50\n",
      "60000/60000 [==============================] - 48s 792us/sample - loss: 0.0915 - val_loss: 0.0903\n",
      "Epoch 13/50\n",
      "60000/60000 [==============================] - 48s 795us/sample - loss: 0.0908 - val_loss: 0.0896\n",
      "Epoch 14/50\n",
      "60000/60000 [==============================] - 48s 796us/sample - loss: 0.0901 - val_loss: 0.0887\n",
      "Epoch 15/50\n",
      "60000/60000 [==============================] - 48s 797us/sample - loss: 0.0895 - val_loss: 0.0881\n",
      "Epoch 16/50\n",
      "60000/60000 [==============================] - 48s 795us/sample - loss: 0.0888 - val_loss: 0.0876\n",
      "Epoch 17/50\n",
      "60000/60000 [==============================] - 48s 795us/sample - loss: 0.0884 - val_loss: 0.0870\n",
      "Epoch 18/50\n",
      "60000/60000 [==============================] - 48s 796us/sample - loss: 0.0879 - val_loss: 0.0866\n",
      "Epoch 19/50\n",
      "60000/60000 [==============================] - 48s 797us/sample - loss: 0.0874 - val_loss: 0.0862\n",
      "Epoch 20/50\n",
      "60000/60000 [==============================] - 48s 796us/sample - loss: 0.0871 - val_loss: 0.0861\n",
      "Epoch 21/50\n",
      "60000/60000 [==============================] - 48s 797us/sample - loss: 0.0868 - val_loss: 0.0855\n",
      "Epoch 22/50\n",
      "60000/60000 [==============================] - 48s 795us/sample - loss: 0.0864 - val_loss: 0.0852\n",
      "Epoch 23/50\n",
      "60000/60000 [==============================] - 48s 796us/sample - loss: 0.0861 - val_loss: 0.0856\n",
      "Epoch 24/50\n",
      "60000/60000 [==============================] - 48s 799us/sample - loss: 0.0859 - val_loss: 0.0848\n",
      "Epoch 25/50\n",
      "60000/60000 [==============================] - 48s 794us/sample - loss: 0.0856 - val_loss: 0.0845\n",
      "Epoch 26/50\n",
      "60000/60000 [==============================] - 48s 793us/sample - loss: 0.0853 - val_loss: 0.0843\n",
      "Epoch 27/50\n",
      "60000/60000 [==============================] - 47s 791us/sample - loss: 0.0851 - val_loss: 0.0842\n",
      "Epoch 28/50\n",
      "60000/60000 [==============================] - 47s 791us/sample - loss: 0.0849 - val_loss: 0.0842\n",
      "Epoch 29/50\n",
      "60000/60000 [==============================] - 47s 790us/sample - loss: 0.0847 - val_loss: 0.0837\n",
      "Epoch 30/50\n",
      "60000/60000 [==============================] - 47s 790us/sample - loss: 0.0844 - val_loss: 0.0835\n",
      "Epoch 31/50\n",
      "60000/60000 [==============================] - 48s 793us/sample - loss: 0.0843 - val_loss: 0.0831\n",
      "Epoch 32/50\n",
      "60000/60000 [==============================] - 47s 790us/sample - loss: 0.0841 - val_loss: 0.0831\n",
      "Epoch 33/50\n",
      "60000/60000 [==============================] - 47s 792us/sample - loss: 0.0839 - val_loss: 0.0830\n",
      "Epoch 34/50\n",
      "60000/60000 [==============================] - 47s 786us/sample - loss: 0.0838 - val_loss: 0.0830\n",
      "Epoch 35/50\n",
      "60000/60000 [==============================] - 47s 786us/sample - loss: 0.0836 - val_loss: 0.0825\n",
      "Epoch 36/50\n",
      "60000/60000 [==============================] - 47s 789us/sample - loss: 0.0835 - val_loss: 0.0838\n",
      "Epoch 37/50\n",
      "60000/60000 [==============================] - 48s 795us/sample - loss: 0.0834 - val_loss: 0.0825\n",
      "Epoch 38/50\n",
      "60000/60000 [==============================] - 48s 792us/sample - loss: 0.0833 - val_loss: 0.0823\n",
      "Epoch 39/50\n",
      "60000/60000 [==============================] - 47s 787us/sample - loss: 0.0832 - val_loss: 0.0821\n",
      "Epoch 40/50\n",
      "60000/60000 [==============================] - 47s 787us/sample - loss: 0.0830 - val_loss: 0.0821\n",
      "Epoch 41/50\n",
      "60000/60000 [==============================] - 47s 788us/sample - loss: 0.0829 - val_loss: 0.0825\n",
      "Epoch 42/50\n",
      "60000/60000 [==============================] - 47s 789us/sample - loss: 0.0829 - val_loss: 0.0817\n",
      "Epoch 43/50\n",
      "60000/60000 [==============================] - 48s 793us/sample - loss: 0.0827 - val_loss: 0.0818\n",
      "Epoch 44/50\n",
      "60000/60000 [==============================] - 47s 792us/sample - loss: 0.0826 - val_loss: 0.0821\n",
      "Epoch 45/50\n",
      "60000/60000 [==============================] - 48s 795us/sample - loss: 0.0826 - val_loss: 0.0815\n",
      "Epoch 46/50\n",
      "60000/60000 [==============================] - 48s 798us/sample - loss: 0.0824 - val_loss: 0.0819\n",
      "Epoch 47/50\n",
      "60000/60000 [==============================] - 49s 809us/sample - loss: 0.0824 - val_loss: 0.0815\n",
      "Epoch 48/50\n",
      "60000/60000 [==============================] - 49s 816us/sample - loss: 0.0823 - val_loss: 0.0813\n",
      "Epoch 49/50\n",
      "60000/60000 [==============================] - 49s 811us/sample - loss: 0.0822 - val_loss: 0.0815\n",
      "Epoch 50/50\n",
      "60000/60000 [==============================] - 48s 804us/sample - loss: 0.0821 - val_loss: 0.0817\n"
     ]
    },
    {
     "data": {
      "text/plain": [
       "<tensorflow.python.keras.callbacks.History at 0x1efde9afe08>"
      ]
     },
     "execution_count": 9,
     "metadata": {},
     "output_type": "execute_result"
    }
   ],
   "source": [
    "autoencoder.fit(X_train, X_train, epochs=50, batch_size=128, validation_data=(X_test, X_test))\n",
    "\n",
    "# Python 3.6.4, Keras 2.3.1, Tensorflow 2.0 로 맞춰주기"
   ]
  },
  {
   "cell_type": "code",
   "execution_count": 10,
   "id": "da2a534b-5923-4787-a0bb-cbb39b644a95",
   "metadata": {},
   "outputs": [
    {
     "data": {
      "image/png": "[encoded data removed]",
      "text/plain": [
       "<Figure size 700x200 with 10 Axes>"
      ]
     },
     "metadata": {},
     "output_type": "display_data"
    }
   ],
   "source": [
    "# 학습된 결과를 출력하는 부분\n",
    "random_test = np.random.randint(X_test.shape[0], size=5)  \n",
    "# 테스트할 이미지를 랜덤으로 호출\n",
    "ae_imgs = autoencoder.predict(X_test)  # 앞서 만든 오토인코더 모델에 넣기\n",
    " \n",
    "plt.figure(figsize=(7, 2))  # 출력 이미지 크기 정하기\n",
    " \n",
    "for i, image_idx in enumerate(random_test):    \n",
    "   # 랜덤으로 뽑은 이미지를 차례로 나열\n",
    "   ax = plt.subplot(2, 7, i + 1)\n",
    "   # 테스트할 이미지를 먼저 그대로 보여줌\n",
    "   plt.imshow(X_test[image_idx].reshape(28, 28))  \n",
    "   ax.axis('off')\n",
    "   ax = plt.subplot(2, 7, 7 + i +1)\n",
    "   # 오토인코딩 결과를 다음 열에 입력\n",
    "   plt.imshow(ae_imgs[image_idx].reshape(28, 28))  \n",
    "   ax.axis('off')\n",
    "plt.show() \n"
   ]
  },
  {
   "cell_type": "code",
   "execution_count": null,
   "id": "65b823f2-2a8c-448b-9091-282842433de9",
   "metadata": {},
   "outputs": [],
   "source": []
  },
  {
   "cell_type": "code",
   "execution_count": null,
   "id": "0b242b9d-fb77-4037-814a-c4e81470307a",
   "metadata": {},
   "outputs": [],
   "source": []
  }
 ],
 "metadata": {
  "kernelspec": {
   "display_name": "Python 3",
   "language": "python",
   "name": "python3"
  },
  "language_info": {
   "codemirror_mode": {
    "name": "ipython",
    "version": 3
   },
   "file_extension": ".py",
   "mimetype": "text/x-python",
   "name": "python",
   "nbconvert_exporter": "python",
   "pygments_lexer": "ipython3",
   "version": "3.7.10"
  }
 },
 "nbformat": 4,
 "nbformat_minor": 5
}
