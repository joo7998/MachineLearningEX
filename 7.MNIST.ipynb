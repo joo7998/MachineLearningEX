{
 "cells": [
  {
   "cell_type": "code",
   "execution_count": 1,
   "id": "3d68381c-0d88-45b8-9ae6-d51ab9e03a75",
   "metadata": {},
   "outputs": [],
   "source": [
    "# 70,000개의 글자 이미지에 각각 0부터 9까지 이름표를 붙인 데이터셋\n",
    "# 손글씨 이미지를 몇 %나 정확히 예측"
   ]
  },
  {
   "cell_type": "markdown",
   "id": "608fb13d-574a-4be3-a610-bae651a4fa73",
   "metadata": {},
   "source": [
    "# 데이터 전처리"
   ]
  },
  {
   "cell_type": "code",
   "execution_count": 2,
   "id": "8da41ea5-b50a-435e-87dd-e932c57b9c5d",
   "metadata": {},
   "outputs": [],
   "source": [
    "from tensorflow.keras.datasets import mnist\n",
    "from tensorflow.keras.utils import to_categorical \n",
    "from tensorflow.keras.models import Sequential \n",
    "from tensorflow.keras.layers import Dense\n",
    "import tensorflow as tf\n",
    "from keras.utils import np_utils\n",
    "from keras.callbacks import ModelCheckpoint, EarlyStopping \n",
    "import os\n",
    "import matplotlib.pyplot as plt\n",
    "import numpy as np \n",
    "import sys"
   ]
  },
  {
   "cell_type": "code",
   "execution_count": 3,
   "id": "ee04730c-8a02-4308-a840-4280749e7668",
   "metadata": {},
   "outputs": [],
   "source": [
    "# seed 값 설정\n",
    "seed = 0\n",
    "np.random.seed(seed)\n",
    "tf.random.set_seed(3)"
   ]
  },
  {
   "cell_type": "code",
   "execution_count": 4,
   "id": "0de2182f-fea7-4f26-b60d-7c86ef3dce46",
   "metadata": {},
   "outputs": [],
   "source": [
    "(X_train, Y_class_train), (X_test, Y_class_test) = mnist.load_data()"
   ]
  },
  {
   "cell_type": "code",
   "execution_count": 5,
   "id": "c767b6b6-6c66-4519-ad16-57e41394190a",
   "metadata": {},
   "outputs": [
    {
     "name": "stdout",
     "output_type": "stream",
     "text": [
      "Train Set Img: 60000 개\n",
      "Test Set Img: 10000 개\n"
     ]
    }
   ],
   "source": [
    "print(\"Train Set Img: %d 개\" % (X_train.shape[0]))\n",
    "print(\"Test Set Img: %d 개\" % (X_test.shape[0]))"
   ]
  },
  {
   "cell_type": "code",
   "execution_count": 6,
   "id": "0176386e-df32-4eef-8892-f8b1ed9f2e9f",
   "metadata": {},
   "outputs": [
    {
     "name": "stdout",
     "output_type": "stream",
     "text": [
      "(60000, 28, 28)\n"
     ]
    }
   ],
   "source": [
    "print(X_train.shape)\n",
    "# row, column (28, 28) = 784 "
   ]
  },
  {
   "cell_type": "code",
   "execution_count": 7,
   "id": "0ee44e7d-dad8-48b3-af3a-4b5f55af68a6",
   "metadata": {},
   "outputs": [
    {
     "data": {
      "image/png": "[encoded data removed]",
      "text/plain": [
       "<Figure size 640x480 with 1 Axes>"
      ]
     },
     "metadata": {},
     "output_type": "display_data"
    }
   ],
   "source": [
    "plt.imshow(X_train[0], cmap='Greys')\n",
    "plt.show()\n",
    "\n",
    "# X_train[n] => n 넣어보기 "
   ]
  },
  {
   "cell_type": "code",
   "execution_count": 8,
   "id": "203f143e-94a9-4ba5-b4e6-6f69ef0c4c76",
   "metadata": {},
   "outputs": [],
   "source": [
    "# 가로 28 × 세로 28 = 총 784개의 픽셀\n",
    "# 각 픽셀은 밝기 정도에 따라 0부터 255까지의 등급\n",
    "# 흰색 0\n",
    "# 글씨 1~255\n",
    "# 긴 행렬로 이루어진 하나의 집합으로 변환"
   ]
  },
  {
   "cell_type": "code",
   "execution_count": 9,
   "id": "682e8bd7-8777-49fa-948d-71ff41d5de9f",
   "metadata": {
    "tags": []
   },
   "outputs": [
    {
     "name": "stdout",
     "output_type": "stream",
     "text": [
      "0\t0\t0\t0\t0\t0\t0\t0\t0\t0\t0\t0\t0\t0\t0\t0\t0\t0\t0\t0\t0\t0\t0\t0\t0\t0\t0\t0\t\n",
      "0\t0\t0\t0\t0\t0\t0\t0\t0\t0\t0\t0\t0\t0\t0\t0\t0\t0\t0\t0\t0\t0\t0\t0\t0\t0\t0\t0\t\n",
      "0\t0\t0\t0\t0\t0\t0\t0\t0\t0\t0\t0\t0\t0\t0\t0\t0\t0\t0\t0\t0\t0\t0\t0\t0\t0\t0\t0\t\n",
      "0\t0\t0\t0\t0\t0\t0\t0\t0\t0\t0\t0\t0\t0\t0\t0\t0\t0\t0\t0\t0\t0\t0\t0\t0\t0\t0\t0\t\n",
      "0\t0\t0\t0\t0\t0\t0\t0\t0\t0\t0\t0\t0\t0\t0\t0\t0\t0\t0\t0\t0\t0\t0\t0\t0\t0\t0\t0\t\n",
      "0\t0\t0\t0\t0\t0\t0\t0\t0\t0\t0\t0\t3\t18\t18\t18\t126\t136\t175\t26\t166\t255\t247\t127\t0\t0\t0\t0\t\n",
      "0\t0\t0\t0\t0\t0\t0\t0\t30\t36\t94\t154\t170\t253\t253\t253\t253\t253\t225\t172\t253\t242\t195\t64\t0\t0\t0\t0\t\n",
      "0\t0\t0\t0\t0\t0\t0\t49\t238\t253\t253\t253\t253\t253\t253\t253\t253\t251\t93\t82\t82\t56\t39\t0\t0\t0\t0\t0\t\n",
      "0\t0\t0\t0\t0\t0\t0\t18\t219\t253\t253\t253\t253\t253\t198\t182\t247\t241\t0\t0\t0\t0\t0\t0\t0\t0\t0\t0\t\n",
      "0\t0\t0\t0\t0\t0\t0\t0\t80\t156\t107\t253\t253\t205\t11\t0\t43\t154\t0\t0\t0\t0\t0\t0\t0\t0\t0\t0\t\n",
      "0\t0\t0\t0\t0\t0\t0\t0\t0\t14\t1\t154\t253\t90\t0\t0\t0\t0\t0\t0\t0\t0\t0\t0\t0\t0\t0\t0\t\n",
      "0\t0\t0\t0\t0\t0\t0\t0\t0\t0\t0\t139\t253\t190\t2\t0\t0\t0\t0\t0\t0\t0\t0\t0\t0\t0\t0\t0\t\n",
      "0\t0\t0\t0\t0\t0\t0\t0\t0\t0\t0\t11\t190\t253\t70\t0\t0\t0\t0\t0\t0\t0\t0\t0\t0\t0\t0\t0\t\n",
      "0\t0\t0\t0\t0\t0\t0\t0\t0\t0\t0\t0\t35\t241\t225\t160\t108\t1\t0\t0\t0\t0\t0\t0\t0\t0\t0\t0\t\n",
      "0\t0\t0\t0\t0\t0\t0\t0\t0\t0\t0\t0\t0\t81\t240\t253\t253\t119\t25\t0\t0\t0\t0\t0\t0\t0\t0\t0\t\n",
      "0\t0\t0\t0\t0\t0\t0\t0\t0\t0\t0\t0\t0\t0\t45\t186\t253\t253\t150\t27\t0\t0\t0\t0\t0\t0\t0\t0\t\n",
      "0\t0\t0\t0\t0\t0\t0\t0\t0\t0\t0\t0\t0\t0\t0\t16\t93\t252\t253\t187\t0\t0\t0\t0\t0\t0\t0\t0\t\n",
      "0\t0\t0\t0\t0\t0\t0\t0\t0\t0\t0\t0\t0\t0\t0\t0\t0\t249\t253\t249\t64\t0\t0\t0\t0\t0\t0\t0\t\n",
      "0\t0\t0\t0\t0\t0\t0\t0\t0\t0\t0\t0\t0\t0\t46\t130\t183\t253\t253\t207\t2\t0\t0\t0\t0\t0\t0\t0\t\n",
      "0\t0\t0\t0\t0\t0\t0\t0\t0\t0\t0\t0\t39\t148\t229\t253\t253\t253\t250\t182\t0\t0\t0\t0\t0\t0\t0\t0\t\n",
      "0\t0\t0\t0\t0\t0\t0\t0\t0\t0\t24\t114\t221\t253\t253\t253\t253\t201\t78\t0\t0\t0\t0\t0\t0\t0\t0\t0\t\n",
      "0\t0\t0\t0\t0\t0\t0\t0\t23\t66\t213\t253\t253\t253\t253\t198\t81\t2\t0\t0\t0\t0\t0\t0\t0\t0\t0\t0\t\n",
      "0\t0\t0\t0\t0\t0\t18\t171\t219\t253\t253\t253\t253\t195\t80\t9\t0\t0\t0\t0\t0\t0\t0\t0\t0\t0\t0\t0\t\n",
      "0\t0\t0\t0\t55\t172\t226\t253\t253\t253\t253\t244\t133\t11\t0\t0\t0\t0\t0\t0\t0\t0\t0\t0\t0\t0\t0\t0\t\n",
      "0\t0\t0\t0\t136\t253\t253\t253\t212\t135\t132\t16\t0\t0\t0\t0\t0\t0\t0\t0\t0\t0\t0\t0\t0\t0\t0\t0\t\n",
      "0\t0\t0\t0\t0\t0\t0\t0\t0\t0\t0\t0\t0\t0\t0\t0\t0\t0\t0\t0\t0\t0\t0\t0\t0\t0\t0\t0\t\n",
      "0\t0\t0\t0\t0\t0\t0\t0\t0\t0\t0\t0\t0\t0\t0\t0\t0\t0\t0\t0\t0\t0\t0\t0\t0\t0\t0\t0\t\n",
      "0\t0\t0\t0\t0\t0\t0\t0\t0\t0\t0\t0\t0\t0\t0\t0\t0\t0\t0\t0\t0\t0\t0\t0\t0\t0\t0\t0\t\n"
     ]
    }
   ],
   "source": [
    "for x in X_train[0]:\n",
    "    for i in x:\n",
    "        sys.stdout.write('%d\\t' % i) #\\t : tab\n",
    "    sys.stdout.write('\\n')"
   ]
  },
  {
   "cell_type": "code",
   "execution_count": 10,
   "id": "07739868-fcfa-4285-8d5d-5a00434ac259",
   "metadata": {},
   "outputs": [],
   "source": [
    "# row, column (28, 28) 2차원 배열 => 784의 1차원 배열로 \n",
    "# reshape(total sample num, 1 dimension attribute num)"
   ]
  },
  {
   "cell_type": "code",
   "execution_count": 11,
   "id": "b4b90a02-c8ef-458f-9935-85868590406a",
   "metadata": {},
   "outputs": [],
   "source": [
    "X_train = X_train.reshape(X_train.shape[0], 784)"
   ]
  },
  {
   "cell_type": "markdown",
   "id": "4e259b5a-dc9a-4caf-9992-1181d40a8dc7",
   "metadata": {},
   "source": [
    "# 데이터 정규화(normalization)\n",
    "- 데이터의 폭이 클 때 적절한 값으로 분산의 정도를 바꾸는 과정을 \n",
    "- 불러온 데이터 => Attribute(X) , Class(Y)로 구분\n",
    "- Train Set Img: 60000 개\n",
    "- Test Set Img: 10000 개"
   ]
  },
  {
   "cell_type": "code",
   "execution_count": 12,
   "id": "2e18796c-d626-4925-b4b4-7a770430197e",
   "metadata": {},
   "outputs": [],
   "source": [
    "# 0~255 사이의 값으로 이루어진 값 => 0에서 1 사이의 값으로 변환\n",
    "# 바꾸는 방법은 각 값을 255로 나누는 것"
   ]
  },
  {
   "cell_type": "code",
   "execution_count": 13,
   "id": "bc4396b7-6b00-4582-bb07-5f7bc71885af",
   "metadata": {},
   "outputs": [],
   "source": [
    "# 정규화를 위해 실수형으로 \n",
    "X_train = X_train.reshape(X_train.shape[0], 784).astype('float32') / 255\n",
    "X_test = X_test.reshape(X_test.shape[0], 784).astype('float64') / 225"
   ]
  },
  {
   "cell_type": "code",
   "execution_count": 14,
   "id": "457168f2-a9ec-43c4-b566-a733e25f9b32",
   "metadata": {},
   "outputs": [
    {
     "name": "stdout",
     "output_type": "stream",
     "text": [
      "class : 5 \n"
     ]
    }
   ],
   "source": [
    "print(\"class : %d \" % (Y_class_train[0]))"
   ]
  },
  {
   "cell_type": "markdown",
   "id": "37f5ad55-1ed7-4156-9d4b-edaa9e071456",
   "metadata": {},
   "source": [
    "# One Hot Encoding (Binary화)\n",
    "- 분류문제 해결위해서 적용\n",
    "- 0 ~ 9 정수 => 0 ~ 1 벡터 값으로 \n",
    "- 5       => [0, 0, 0, 0, 0, 1, 0, 0, 0, 0]"
   ]
  },
  {
   "cell_type": "code",
   "execution_count": 15,
   "id": "a5df0888-587b-4d73-8164-1f8ef04b89b1",
   "metadata": {},
   "outputs": [],
   "source": [
    "# np_utils.to_categorical(class, class num)"
   ]
  },
  {
   "cell_type": "code",
   "execution_count": 16,
   "id": "d4ce12f9-ee84-49a4-9ba8-7fb321e2e9ea",
   "metadata": {},
   "outputs": [],
   "source": [
    "Y_train = np_utils.to_categorical(Y_class_train, 10)\n",
    "Y_test = np_utils.to_categorical(Y_class_test, 10)"
   ]
  },
  {
   "cell_type": "code",
   "execution_count": 17,
   "id": "44a9d4d7-0656-445f-ad5a-390d574b21e9",
   "metadata": {},
   "outputs": [
    {
     "name": "stdout",
     "output_type": "stream",
     "text": [
      "[0. 0. 0. 0. 0. 1. 0. 0. 0. 0.]\n"
     ]
    }
   ],
   "source": [
    "print(Y_train[0])"
   ]
  },
  {
   "cell_type": "markdown",
   "id": "424ef8ca-2895-45b4-ae34-a676067de29b",
   "metadata": {},
   "source": [
    "# Deep Learning 기본 프레임 만들기 "
   ]
  },
  {
   "cell_type": "code",
   "execution_count": 18,
   "id": "4870e4a0-08d7-44b6-8315-fd3d04bd3827",
   "metadata": {},
   "outputs": [],
   "source": [
    "model = Sequential()\n",
    "model.add(Dense(512, input_dim=784, activation='relu'))\n",
    "model.add(Dense(10, activation='softmax'))\n",
    "\n",
    "# Attribute: 784 & Class: 10"
   ]
  },
  {
   "cell_type": "code",
   "execution_count": 19,
   "id": "df1e67ac-4c38-4f56-a192-1ea3b6b1291c",
   "metadata": {},
   "outputs": [
    {
     "name": "stdout",
     "output_type": "stream",
     "text": [
      "Model: \"sequential\"\n",
      "_________________________________________________________________\n",
      "Layer (type)                 Output Shape              Param #   \n",
      "=================================================================\n",
      "dense (Dense)                (None, 512)               401920    \n",
      "_________________________________________________________________\n",
      "dense_1 (Dense)              (None, 10)                5130      \n",
      "=================================================================\n",
      "Total params: 407,050\n",
      "Trainable params: 407,050\n",
      "Non-trainable params: 0\n",
      "_________________________________________________________________\n"
     ]
    }
   ],
   "source": [
    "model.summary()"
   ]
  },
  {
   "cell_type": "code",
   "execution_count": 20,
   "id": "547435cd-80d1-45b5-b8fe-16c296a1892b",
   "metadata": {},
   "outputs": [],
   "source": [
    "# 입력 값(input_dim) 784개, 은닉층 512개, 출력 10개"
   ]
  },
  {
   "cell_type": "code",
   "execution_count": 21,
   "id": "4cf6681c-b8bf-4f30-ba0f-953bf91071a6",
   "metadata": {},
   "outputs": [],
   "source": [
    "model.compile(loss= 'categorical_crossentropy', optimizer='adam', metrics=['accuracy'])"
   ]
  },
  {
   "cell_type": "markdown",
   "id": "5cdfc7f6-d5d8-416d-8bd7-525ce009d975",
   "metadata": {},
   "source": [
    "# 저장 & 최적화 단계에서 (자동) 학습 중단"
   ]
  },
  {
   "cell_type": "code",
   "execution_count": 22,
   "id": "eca8a001-5694-4a23-a1a1-69ccf3bb156d",
   "metadata": {},
   "outputs": [],
   "source": [
    "MODEL_DIR= './model/'\n",
    "if not os.path.exists(MODEL_DIR): \n",
    "    os.mkdir(MODEL_DIR)\n",
    "\n",
    "modelpath='./model/{epoch:02d}={val_loss:4f}.hdf5'\n",
    "checkpointer = ModelCheckpoint(filepath=modelpath, \n",
    "                               monitor='val_loss', verbose=1, save_best_only=True)\n",
    "early_stopping_callback = EarlyStopping(monitor='val_loss', patience=10)"
   ]
  },
  {
   "cell_type": "code",
   "execution_count": 23,
   "id": "74e24305-71e7-4726-a2d2-fdbd3c5675fa",
   "metadata": {},
   "outputs": [],
   "source": [
    "# sample 200 => 30 번 실행 \n",
    "# test set으로 최종 모델 성과 측정 -> 출력"
   ]
  },
  {
   "cell_type": "code",
   "execution_count": 25,
   "id": "980cf078-2ce2-4cdf-aea2-bf17ddb2c1c2",
   "metadata": {},
   "outputs": [
    {
     "name": "stdout",
     "output_type": "stream",
     "text": [
      "\n",
      "Epoch 00001: val_loss improved from inf to 0.09799, saving model to ./model\\01=0.097991.hdf5\n",
      "\n",
      "Epoch 00002: val_loss improved from 0.09799 to 0.08091, saving model to ./model\\02=0.080912.hdf5\n",
      "\n",
      "Epoch 00003: val_loss improved from 0.08091 to 0.07820, saving model to ./model\\03=0.078200.hdf5\n",
      "\n",
      "Epoch 00004: val_loss improved from 0.07820 to 0.07479, saving model to ./model\\04=0.074794.hdf5\n",
      "\n",
      "Epoch 00005: val_loss improved from 0.07479 to 0.07192, saving model to ./model\\05=0.071924.hdf5\n",
      "\n",
      "Epoch 00006: val_loss improved from 0.07192 to 0.06609, saving model to ./model\\06=0.066089.hdf5\n",
      "\n",
      "Epoch 00007: val_loss did not improve from 0.06609\n",
      "\n",
      "Epoch 00008: val_loss did not improve from 0.06609\n",
      "\n",
      "Epoch 00009: val_loss did not improve from 0.06609\n",
      "\n",
      "Epoch 00010: val_loss did not improve from 0.06609\n",
      "\n",
      "Epoch 00011: val_loss did not improve from 0.06609\n",
      "\n",
      "Epoch 00012: val_loss did not improve from 0.06609\n",
      "\n",
      "Epoch 00013: val_loss improved from 0.06609 to 0.06407, saving model to ./model\\13=0.064069.hdf5\n",
      "\n",
      "Epoch 00014: val_loss did not improve from 0.06407\n",
      "\n",
      "Epoch 00015: val_loss did not improve from 0.06407\n",
      "\n",
      "Epoch 00016: val_loss did not improve from 0.06407\n",
      "\n",
      "Epoch 00017: val_loss did not improve from 0.06407\n",
      "\n",
      "Epoch 00018: val_loss did not improve from 0.06407\n",
      "\n",
      "Epoch 00019: val_loss did not improve from 0.06407\n",
      "\n",
      "Epoch 00020: val_loss did not improve from 0.06407\n",
      "\n",
      "Epoch 00021: val_loss did not improve from 0.06407\n",
      "\n",
      "Epoch 00022: val_loss did not improve from 0.06407\n",
      "\n",
      "Epoch 00023: val_loss did not improve from 0.06407\n",
      "313/313 [==============================] - 0s 1ms/step - loss: 0.0722 - accuracy: 0.9842\n",
      "\n",
      " Test Accuracy: 0.9842\n"
     ]
    }
   ],
   "source": [
    "history = model.fit(X_train, Y_train, validation_data=(X_test, Y_test), epochs=30, batch_size=200, verbose=0, callbacks=[early_stopping_callback,checkpointer])\n",
    " \n",
    "print(\"\\n Test Accuracy: %.4f\" % (model.evaluate(X_test, Y_test)[1]))"
   ]
  },
  {
   "cell_type": "code",
   "execution_count": 26,
   "id": "31a5fa96-b434-490e-965a-41db971adeac",
   "metadata": {},
   "outputs": [
    {
     "name": "stdout",
     "output_type": "stream",
     "text": [
      "313/313 [==============================] - 0s 1ms/step - loss: 0.0722 - accuracy: 0.9842\n",
      "\n",
      " Test Accuracy: 0.9842\n"
     ]
    }
   ],
   "source": [
    "print(\"\\n Test Accuracy: %.4f\" % (model.evaluate(X_test, Y_test)[1]))"
   ]
  },
  {
   "cell_type": "code",
   "execution_count": null,
   "id": "ee4b2734-e837-46c4-84f9-3a961c396bcf",
   "metadata": {},
   "outputs": [],
   "source": [
    "# 정확도 : 98.4 % "
   ]
  },
  {
   "cell_type": "markdown",
   "id": "81784094-343e-45c9-84c1-1d3e167c66dc",
   "metadata": {},
   "source": [
    "# Graph"
   ]
  },
  {
   "cell_type": "code",
   "execution_count": null,
   "id": "75fd8eb3-848a-41c7-9ed6-1c572caf35fb",
   "metadata": {},
   "outputs": [],
   "source": [
    "# Train Set Loss (오차) & Test Set \n",
    "# Train Set Loss = 1 - Train Set Accuracy "
   ]
  },
  {
   "cell_type": "code",
   "execution_count": 27,
   "id": "be43cfd8-1951-409e-866f-78a73c9f32c7",
   "metadata": {},
   "outputs": [],
   "source": [
    "y_vloss = history.history['val_loss']\n",
    "y_loss = history.history['loss']"
   ]
  },
  {
   "cell_type": "code",
   "execution_count": 29,
   "id": "ba8763b9-33d6-45a5-9cdc-73012384c00a",
   "metadata": {},
   "outputs": [
    {
     "data": {
      "text/plain": [
       "[<matplotlib.lines.Line2D at 0x1cb4bd1d608>]"
      ]
     },
     "execution_count": 29,
     "metadata": {},
     "output_type": "execute_result"
    }
   ],
   "source": [
    "x_len = np.arange(len(y_loss))\n",
    "plt.plot(x_len, y_vloss, marker='.', c='red', label='Testset_loss')\n",
    "plt.plot(x_len, y_loss, marker='.', c='blue', label='Trainset_loss')"
   ]
  },
  {
   "cell_type": "code",
   "execution_count": 30,
   "id": "07da9089-a81a-4e34-ba43-efdd04fc9d2b",
   "metadata": {},
   "outputs": [
    {
     "data": {
      "image/png": "[encoded data removed]",
      "text/plain": [
       "<Figure size 640x480 with 1 Axes>"
      ]
     },
     "metadata": {},
     "output_type": "display_data"
    }
   ],
   "source": [
    "plt.legend(loc='upper right')\n",
    "plt.grid()\n",
    "plt.xlabel('epoch')\n",
    "plt.ylabel('loss')\n",
    "plt.show()"
   ]
  },
  {
   "cell_type": "code",
   "execution_count": null,
   "id": "5fc56771-13b1-49c8-9980-82ad8fe31421",
   "metadata": {},
   "outputs": [],
   "source": []
  }
 ],
 "metadata": {
  "kernelspec": {
   "display_name": "Python 3",
   "language": "python",
   "name": "python3"
  },
  "language_info": {
   "codemirror_mode": {
    "name": "ipython",
    "version": 3
   },
   "file_extension": ".py",
   "mimetype": "text/x-python",
   "name": "python",
   "nbconvert_exporter": "python",
   "pygments_lexer": "ipython3",
   "version": "3.7.10"
  }
 },
 "nbformat": 4,
 "nbformat_minor": 5
}
